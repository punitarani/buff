{
 "cells": [
  {
   "cell_type": "markdown",
   "source": [
    "# Citations Analysis using Embeddings"
   ],
   "metadata": {
    "collapsed": false
   },
   "id": "f74fdb879a8f4921"
  },
  {
   "cell_type": "markdown",
   "source": [
    "Initialize ChromaDB"
   ],
   "metadata": {
    "collapsed": false
   },
   "id": "f294e99b2cafbc84"
  },
  {
   "cell_type": "code",
   "outputs": [],
   "source": [
    "import chromadb\n",
    "\n",
    "from config import DATA_DIR"
   ],
   "metadata": {
    "collapsed": false,
    "ExecuteTime": {
     "end_time": "2024-03-13T16:13:53.997153300Z",
     "start_time": "2024-03-13T16:13:50.935960800Z"
    }
   },
   "id": "58e19cf1a40c44b8",
   "execution_count": 1
  },
  {
   "cell_type": "code",
   "outputs": [],
   "source": [
    "chroma_db_path = DATA_DIR.joinpath(\"chroma\").resolve()\n",
    "\n",
    "chroma = chromadb.PersistentClient(path=str(chroma_db_path))\n",
    "embeddings = chroma.get_or_create_collection(\"analysis\")"
   ],
   "metadata": {
    "collapsed": false,
    "ExecuteTime": {
     "end_time": "2024-03-13T16:13:54.617590900Z",
     "start_time": "2024-03-13T16:13:53.991166400Z"
    }
   },
   "id": "17a12d1790ba13d3",
   "execution_count": 2
  },
  {
   "cell_type": "markdown",
   "source": [
    "## Load Data"
   ],
   "metadata": {
    "collapsed": false
   },
   "id": "38144e01ecb06796"
  },
  {
   "cell_type": "code",
   "execution_count": 3,
   "id": "initial_id",
   "metadata": {
    "collapsed": true,
    "ExecuteTime": {
     "end_time": "2024-03-13T16:13:58.157617400Z",
     "start_time": "2024-03-13T16:13:54.626508500Z"
    }
   },
   "outputs": [],
   "source": [
    "from buff.openalex import Work\n",
    "from buff.openalex.download import get_paper_text\n",
    "from buff.llm.utils import get_token_count"
   ]
  },
  {
   "cell_type": "markdown",
   "source": [
    "## Papers\n",
    "\n",
    "**Paper 2 - Cites - Paper 1**\n",
    "$\\text{Paper 2} \\rightarrow \\text{Paper 1}$"
   ],
   "metadata": {
    "collapsed": false
   },
   "id": "6840d384cabf3da7"
  },
  {
   "cell_type": "code",
   "outputs": [],
   "source": [
    "paper_1 = \"W2994792393\"\n",
    "paper_2 = \"W3190631166\""
   ],
   "metadata": {
    "collapsed": false,
    "ExecuteTime": {
     "end_time": "2024-03-13T16:13:58.298587400Z",
     "start_time": "2024-03-13T16:13:58.165467Z"
    }
   },
   "id": "24a1b17b999d08ef",
   "execution_count": 4
  },
  {
   "cell_type": "code",
   "outputs": [],
   "source": [
    "work_1 = await Work(paper_1).data\n",
    "work_2 = await Work(paper_2).data"
   ],
   "metadata": {
    "collapsed": false,
    "ExecuteTime": {
     "end_time": "2024-03-13T16:13:59.106021400Z",
     "start_time": "2024-03-13T16:13:58.190324900Z"
    }
   },
   "id": "1935aa4cf77feb8d",
   "execution_count": 5
  },
  {
   "cell_type": "code",
   "outputs": [
    {
     "name": "stdout",
     "output_type": "stream",
     "text": [
      "Paper 1:  The autophagy receptor p62/SQST-1 promotes proteostasis and longevity in C. elegans by inducing autophagy\n",
      "Paper 2:  Autophagy in healthy aging and disease\n"
     ]
    }
   ],
   "source": [
    "print(\"Paper 1: \", work_1.title)\n",
    "print(\"Paper 2: \", work_2.title)"
   ],
   "metadata": {
    "collapsed": false,
    "ExecuteTime": {
     "end_time": "2024-03-13T16:13:59.186913Z",
     "start_time": "2024-03-13T16:13:59.111253900Z"
    }
   },
   "id": "4f91d6d1b4158f52",
   "execution_count": 6
  },
  {
   "cell_type": "code",
   "outputs": [
    {
     "name": "stdout",
     "output_type": "stream",
     "text": [
      "Paper 1 loaded: 22380 tokens\n",
      "Paper 2 loaded: 32836 tokens\n"
     ]
    }
   ],
   "source": [
    "text_1 = await get_paper_text(work=work_1)\n",
    "text_2 = await get_paper_text(work=work_2)\n",
    "\n",
    "print(f\"Paper 1 loaded: {get_token_count(text_1)} tokens\")\n",
    "print(f\"Paper 2 loaded: {get_token_count(text_2)} tokens\")"
   ],
   "metadata": {
    "collapsed": false,
    "ExecuteTime": {
     "end_time": "2024-03-13T16:14:00.795241100Z",
     "start_time": "2024-03-13T16:13:59.131022900Z"
    }
   },
   "id": "a35bfa457a551e1c",
   "execution_count": 7
  },
  {
   "cell_type": "markdown",
   "source": [
    "## Text Processing"
   ],
   "metadata": {
    "collapsed": false
   },
   "id": "7765166fc0b4ccd9"
  },
  {
   "cell_type": "code",
   "outputs": [],
   "source": [
    "# from buff.llm.split import split_text\n",
    "# \n",
    "# text_1_chunks = split_text(text_1)\n",
    "# text_2_chunks = split_text(text_2)\n",
    "# \n",
    "# # Save the chunks\n",
    "# with open(\"chunks.json\", \"w\", encoding=\"utf-8\") as f:\n",
    "#     f.write(json.dumps({\n",
    "#         \"paper_1\": text_1_chunks,\n",
    "#         \"paper_2\": text_2_chunks\n",
    "#     }))\n",
    "#     print(\"Chunks saved\")"
   ],
   "metadata": {
    "collapsed": false,
    "ExecuteTime": {
     "end_time": "2024-03-13T16:14:00.798244300Z",
     "start_time": "2024-03-13T16:14:00.526353500Z"
    }
   },
   "id": "d2ef8324d1846087",
   "execution_count": 8
  },
  {
   "cell_type": "code",
   "outputs": [
    {
     "name": "stdout",
     "output_type": "stream",
     "text": [
      "Chunks loaded\n",
      "Paper 1 split into 42 chunks\n",
      "Paper 2 split into 66 chunks\n"
     ]
    }
   ],
   "source": [
    "import json\n",
    "\n",
    "# Load the chunks\n",
    "with open(\"chunks.json\", \"r\", encoding=\"utf-8\") as f:\n",
    "    text_chunks = json.load(f)\n",
    "    text_1_chunks = text_chunks[\"paper_1\"]\n",
    "    text_2_chunks = text_chunks[\"paper_2\"]\n",
    "    print(\"Chunks loaded\")\n",
    "\n",
    "print(f\"Paper 1 split into {len(text_1_chunks)} chunks\")\n",
    "print(f\"Paper 2 split into {len(text_2_chunks)} chunks\")"
   ],
   "metadata": {
    "collapsed": false,
    "ExecuteTime": {
     "end_time": "2024-03-13T16:14:00.937058300Z",
     "start_time": "2024-03-13T16:14:00.537085300Z"
    }
   },
   "id": "8df92a5693aff886",
   "execution_count": 9
  },
  {
   "cell_type": "markdown",
   "source": [
    "Print min-mean-max token count for each chunk"
   ],
   "metadata": {
    "collapsed": false
   },
   "id": "1b07866665594cea"
  },
  {
   "cell_type": "code",
   "outputs": [
    {
     "name": "stdout",
     "output_type": "stream",
     "text": [
      "Paper 1 chunk stats: 267 - 532 - 815\n",
      "Paper 2 chunk stats: 81 - 497 - 684\n"
     ]
    }
   ],
   "source": [
    "text_1_chunks_tokens = [get_token_count(chunk) for chunk in text_1_chunks]\n",
    "text_2_chunks_tokens = [get_token_count(chunk) for chunk in text_2_chunks]\n",
    "\n",
    "print(\n",
    "    f\"Paper 1 chunk stats: {min(text_1_chunks_tokens)} - {sum(text_1_chunks_tokens) // len(text_1_chunks_tokens)} - {max(text_1_chunks_tokens)}\")\n",
    "print(\n",
    "    f\"Paper 2 chunk stats: {min(text_2_chunks_tokens)} - {sum(text_2_chunks_tokens) // len(text_2_chunks_tokens)} - {max(text_2_chunks_tokens)}\")"
   ],
   "metadata": {
    "collapsed": false,
    "ExecuteTime": {
     "end_time": "2024-03-13T16:14:01.015606800Z",
     "start_time": "2024-03-13T16:14:00.557753200Z"
    }
   },
   "id": "82b35dc48f356245",
   "execution_count": 10
  },
  {
   "cell_type": "markdown",
   "source": [
    "### Embeddings"
   ],
   "metadata": {
    "collapsed": false
   },
   "id": "b26196d1b185416a"
  },
  {
   "cell_type": "code",
   "outputs": [
    {
     "name": "stdout",
     "output_type": "stream",
     "text": [
      "Embeddings loaded\n",
      "Paper 1 embedded into 42 chunks\n",
      "Paper 2 embedded into 66 chunks\n"
     ]
    }
   ],
   "source": [
    "# from buff.llm.embed import embed_texts\n",
    "# \n",
    "# text_1_embeddings = await embed_texts(text_1_chunks)\n",
    "# text_2_embeddings = await embed_texts(text_2_chunks)\n",
    "# \n",
    "# # Save the embeddings\n",
    "# with open(\"embeddings.json\", \"w\", encoding=\"utf-8\") as f:\n",
    "#     f.write(json.dumps({\n",
    "#         \"paper_1\": text_1_embeddings,\n",
    "#         \"paper_2\": text_2_embeddings\n",
    "#     }))\n",
    "#     print(\"Embeddings saved\")\n",
    "\n",
    "# Load the embeddings\n",
    "with open(\"embeddings.json\", \"r\", encoding=\"utf-8\") as f:\n",
    "    text_embeddings = json.load(f)\n",
    "    text_1_embeddings = text_embeddings[\"paper_1\"]\n",
    "    text_2_embeddings = text_embeddings[\"paper_2\"]\n",
    "    print(\"Embeddings loaded\")\n",
    "\n",
    "print(f\"Paper 1 embedded into {len(text_1_embeddings)} chunks\")\n",
    "print(f\"Paper 2 embedded into {len(text_2_embeddings)} chunks\")"
   ],
   "metadata": {
    "collapsed": false,
    "ExecuteTime": {
     "end_time": "2024-03-13T16:14:01.120304400Z",
     "start_time": "2024-03-13T16:14:00.675683500Z"
    }
   },
   "id": "cc89915b5b9871e1",
   "execution_count": 11
  },
  {
   "cell_type": "markdown",
   "source": [
    "Store the documents"
   ],
   "metadata": {
    "collapsed": false
   },
   "id": "ad0eeec6162a4e43"
  },
  {
   "cell_type": "code",
   "outputs": [],
   "source": [
    "# from buff.llm.models import Document, DocumentMetadata\n",
    "# \n",
    "# # Build the documents\n",
    "# text_1_documents = [\n",
    "#     Document(\n",
    "#         metadata=DocumentMetadata(\n",
    "#             index=i,\n",
    "#             work_id=str(work_1.id),\n",
    "#             doi=str(work_1.doi),\n",
    "#             text=text_1_chunks[i]\n",
    "#         ),\n",
    "#         id=f\"{work_1.id}-{i}\",\n",
    "#         values=text_1_embeddings[i]\n",
    "#     )\n",
    "#     for i in range(len(text_1_chunks))\n",
    "# ]\n",
    "# \n",
    "# text_2_documents = [\n",
    "#     Document(\n",
    "#         metadata=DocumentMetadata(\n",
    "#             index=i,\n",
    "#             work_id=str(work_2.id),\n",
    "#             doi=str(work_2.doi),\n",
    "#             text=text_2_chunks[i]\n",
    "#         ),\n",
    "#         id=f\"{work_2.id}-{i}\",\n",
    "#         values=text_2_embeddings[i]\n",
    "#     )\n",
    "#     for i in range(len(text_2_chunks))\n",
    "# ]\n",
    "# print(f\"Paper 1: {len(text_1_documents)} documents\")\n",
    "# print(f\"Paper 2: {len(text_2_documents)} documents\")\n",
    "# \n",
    "# \n",
    "# # Create the following lists of data from the 2 documents arrays\n",
    "# text_chunk_ids = [doc.id for doc in text_1_documents + text_2_documents]\n",
    "# text_chunk_embeddings = [doc.values for doc in text_1_documents + text_2_documents]\n",
    "# text_chunk_metadata = [doc.metadata.model_dump(mode=\"json\") for doc in text_1_documents + text_2_documents]\n",
    "# print(f\"Total: {len(text_chunk_ids)} documents.\")\n",
    "# if not len(text_chunk_embeddings) == len(text_chunk_metadata) == len(text_chunk_ids):\n",
    "#     raise ValueError(\"Invalid data\")\n",
    "# \n",
    "# # Store the embeddings\n",
    "# embeddings.add(\n",
    "#     ids=text_chunk_ids,\n",
    "#     embeddings=text_chunk_embeddings,\n",
    "#     metadatas=text_chunk_metadata\n",
    "# )\n",
    "# print(\"Embeddings stored\")"
   ],
   "metadata": {
    "collapsed": false,
    "ExecuteTime": {
     "end_time": "2024-03-13T16:14:01.124321800Z",
     "start_time": "2024-03-13T16:14:00.824890700Z"
    }
   },
   "id": "c371b3468384df2",
   "execution_count": 12
  },
  {
   "cell_type": "code",
   "outputs": [],
   "source": [
    "import numpy as np\n",
    "from sklearn.metrics.pairwise import cosine_similarity"
   ],
   "metadata": {
    "collapsed": false,
    "ExecuteTime": {
     "end_time": "2024-03-13T16:14:01.571904700Z",
     "start_time": "2024-03-13T16:14:00.839032600Z"
    }
   },
   "id": "7717479bf5810202",
   "execution_count": 13
  },
  {
   "cell_type": "code",
   "outputs": [],
   "source": [
    "# Convert the lists to numpy arrays\n",
    "text_1_vecs = np.array(text_1_embeddings)\n",
    "text_2_vecs = np.array(text_2_embeddings)\n",
    "\n",
    "text_vecs_offset = 3\n",
    "\n",
    "# Ignore the first and last few vectors from each array\n",
    "text_1_vecs = text_1_vecs[text_vecs_offset:-text_vecs_offset]\n",
    "text_2_vecs = text_2_vecs[text_vecs_offset:-text_vecs_offset]"
   ],
   "metadata": {
    "collapsed": false,
    "ExecuteTime": {
     "end_time": "2024-03-13T16:14:01.616365400Z",
     "start_time": "2024-03-13T16:14:01.471891400Z"
    }
   },
   "id": "fd1d19045d101cc",
   "execution_count": 14
  },
  {
   "cell_type": "code",
   "outputs": [],
   "source": [
    "# Calculate the cosine similarity matrix\n",
    "similarity_matrix = cosine_similarity(text_1_vecs, text_2_vecs)"
   ],
   "metadata": {
    "collapsed": false,
    "ExecuteTime": {
     "end_time": "2024-03-13T16:14:01.618366200Z",
     "start_time": "2024-03-13T16:14:01.497199700Z"
    }
   },
   "id": "a4758638f6ca923",
   "execution_count": 15
  },
  {
   "cell_type": "code",
   "outputs": [
    {
     "name": "stdout",
     "output_type": "stream",
     "text": [
      "10 most common embeddings (in descending order of similarity):\n",
      "Index pair: (38, 48), Similarity score: 0.8527\n",
      "Index pair: (38, 46), Similarity score: 0.8487\n",
      "Index pair: (34, 45), Similarity score: 0.8380\n",
      "Index pair: (38, 47), Similarity score: 0.8371\n",
      "Index pair: (38, 62), Similarity score: 0.8338\n",
      "Index pair: (34, 49), Similarity score: 0.8319\n",
      "Index pair: (37, 48), Similarity score: 0.8310\n",
      "Index pair: (36, 47), Similarity score: 0.8282\n",
      "Index pair: (36, 48), Similarity score: 0.8268\n",
      "Index pair: (36, 46), Similarity score: 0.8259\n",
      "\n",
      "10 most different embeddings (in ascending order of similarity):\n",
      "Index pair: (14, 13), Similarity score: 0.2403\n",
      "Index pair: (13, 13), Similarity score: 0.2470\n",
      "Index pair: (13, 56), Similarity score: 0.2544\n",
      "Index pair: (13, 27), Similarity score: 0.2588\n",
      "Index pair: (13, 23), Similarity score: 0.2668\n",
      "Index pair: (15, 56), Similarity score: 0.2676\n",
      "Index pair: (15, 13), Similarity score: 0.2693\n",
      "Index pair: (13, 32), Similarity score: 0.2735\n",
      "Index pair: (33, 23), Similarity score: 0.2793\n",
      "Index pair: (13, 37), Similarity score: 0.2819\n"
     ]
    }
   ],
   "source": [
    "# Find the indices of the 10 most common embeddings\n",
    "most_common_indices = np.unravel_index(similarity_matrix.argpartition(-10, axis=None)[-10:], similarity_matrix.shape)\n",
    "\n",
    "# Find the indices of the 10 most different embeddings\n",
    "most_different_indices = np.unravel_index(similarity_matrix.argpartition(10, axis=None)[:10], similarity_matrix.shape)\n",
    "\n",
    "# Sort the most common indices based on similarity scores in descending order\n",
    "most_common_scores = similarity_matrix[most_common_indices]\n",
    "most_common_sorted_indices = np.argsort(-most_common_scores)\n",
    "most_common_indices = (most_common_indices[0][most_common_sorted_indices], most_common_indices[1][most_common_sorted_indices])\n",
    "\n",
    "# Sort the most different indices based on similarity scores in ascending order\n",
    "most_different_scores = similarity_matrix[most_different_indices]\n",
    "most_different_sorted_indices = np.argsort(most_different_scores)\n",
    "most_different_indices = (most_different_indices[0][most_different_sorted_indices], most_different_indices[1][most_different_sorted_indices])\n",
    "\n",
    "# Print the index pairs and similarity scores for the most common embeddings in descending order\n",
    "print(\"10 most common embeddings (in descending order of similarity):\")\n",
    "for i in range(10):\n",
    "    index_1, index_2 = most_common_indices[0][i], most_common_indices[1][i]\n",
    "    similarity_score = similarity_matrix[index_1, index_2]\n",
    "    print(f\"Index pair: ({index_1 + text_vecs_offset}, {index_2 + text_vecs_offset}), Similarity score: {similarity_score:.4f}\")\n",
    "\n",
    "# Print the index pairs and similarity scores for the most different embeddings in ascending order\n",
    "print(\"\\n10 most different embeddings (in ascending order of similarity):\")\n",
    "for i in range(10):\n",
    "    index_1, index_2 = most_different_indices[0][i], most_different_indices[1][i]\n",
    "    similarity_score = similarity_matrix[index_1, index_2]\n",
    "    print(f\"Index pair: ({index_1 + text_vecs_offset}, {index_2 + text_vecs_offset}), Similarity score: {similarity_score:.4f}\")"
   ],
   "metadata": {
    "collapsed": false,
    "ExecuteTime": {
     "end_time": "2024-03-13T16:14:01.646621500Z",
     "start_time": "2024-03-13T16:14:01.529410100Z"
    }
   },
   "id": "3c871ca83c540735",
   "execution_count": 16
  },
  {
   "cell_type": "code",
   "outputs": [
    {
     "name": "stdout",
     "output_type": "stream",
     "text": [
      "\n",
      "10 most common text chunks:\n",
      "\n",
      "Text 1 chunk: Integrating the stress response: lessons for neurodegenerative diseases from C. elegans. Trends Cell Biol. 19, 52–61 (2009). 47. Ben-Zvi, A., Miller, E. A. & Morimoto, R. I. Collapse of proteostasis represents an early molecular event in Caenorhabditis elegans aging. Proc. Natl Acad. Sci. USA 106, 14914–14919 (2009). 48. Vilchez, D. et al. RPN-6 determines C. elegans longevity under proteotoxic stress conditions. Nature 489, 263–268 (2012). 49. Sun, T., Wang, X., Lu, Q., Ren, H. & Zhang, H. CUP-5, the C. elegans ortholog of the mammalian lysosomal channel protein MLN1/TRPML1, is required for proteolytic degradation in autolysosomes. Autophagy 7, 1308–1315 (2011). 50. Wu, Y. et al. PI3P phosphatase activity is required for autophagosome maturation and autolysosome formation. EMBO Rep. 15, 973–981 (2014). 51. Toth, M. L. et al. Longevity pathways converge on autophagy genes to regulate life span in Caenorhabditis elegans. Autophagy 4, 330–338 (2008). 52. Wu, F. et al. Structural basis of the differential function of the two C. elegans Atg8 homologs, LGG-1 and LGG-2, in autophagy. Mol. Cell 60, 914–929 (2015). NATURE COMMUNICATIONS | https://doi.org/10.1038/s41467-019-13540-4 ARTICLE NATURE COMMUNICATIONS | (2019) 10:5648 | https://doi.org/10.1038/s41467-019-13540-4 | www.nature.com/naturecommunications 11 53. Chang, J. T., Kumsta, C., Hellman, A. B., Adams, L. M. & Hansen, M. Spatiotemporal regulation of autophagy during Caenorhabditis elegans aging. Elife 6, https://doi.org/10.7554/eLife.18459 (2017). 54. Ventura, N. et al. p53/CEP-1 increases or decreases lifespan, depending on level of mitochondrial bioenergetic stress. Aging Cell 8, 380–393 (2009). 55. Zaffagnini, G. & Martens, S. Mechanisms of selective autophagy. J. Mol. Biol. 428, 1714–1724 (2016). 56. Itakura, E. & Mizushima, N. p62 Targeting to the autophagosome formation site requires self-oligomerization but not LC3 binding. J. Cell Biol. 192, 17–27 (2011). 57. Fujita, N. et al.\n",
      "\n",
      "Text 2 chunk: 2020, 4908162 (2020). 52. Liang, W. et al. Aging is associated with a decline in Atg9b-mediated autophagosome formation and appearance of enlarged mitochondria in the heart. Aging Cell 19, e13187 (2020). 53. Kamihara, T. & Murohara, T. Bioinformatics analysis of autophagy– lysosomal degradation in cardiac aging. Geriatr. Gerontol. Int. 21, 108–115 (2021). 54. Fang, Y. et al. Autophagy–Sirt3 axis decelerates hematopoietic aging. Aging Cell 19, e13232 (2020). 55. Alsaleh, G. et al. Autophagy in T cells from aged donors is maintained by spermidine and correlates with function and vaccine responses. eLife https://doi.org/10.7554/eLife.57950 (2020). 56. De Risi, M. et al. Mechanisms by which autophagy regulates memory capacity in ageing. Aging Cell 19, e13189 (2020). 57. Yamamuro, T. et al. Age-dependent loss of adipose Rubicon promotes metabolic disorders via excess autophagy. Nat. Commun. 11, 4150 (2020). 58. Zhou, B. et al. Mitochondrial permeability uncouples elevated autophagy and lifespan extension. Cell 177, 299–314 (2019). 59. Ezcurra, M. et al. C. elegans eats its own intestine to make yolk leading to multiple senescent pathologies. Curr. Biol. 28, 2544–2556 (2018). 60. Lapierre, L. R. et al. Autophagy genes are required for normal lipid levels in C. elegans. Autophagy 9, 278–286 (2013). 61. Hansen, M. et al. A role for autophagy in the extension of lifespan by dietary restriction in C. elegans. PLoS Genet. 4, e24 (2008). 62. Labbadia, J. & Morimoto, R. I. The biology of proteostasis in aging and disease. Annu. Rev. Biochem. 84, 435–464 (2015). 63. Lopez-Otin, C., Blasco, M. A., Partridge, L., Serrano, M. & Kroemer, G. The hallmarks of aging. Cell 153, 1194–1217 (2013). 64. Ravikumar, B., Duden, R. & Rubinsztein, D. C. Aggregate-prone proteins with polyglutamine and polyalanine expansions are degraded by autophagy. Hum. Mol. Genet. 11, 1107–1117 (2002). 65. Ravikumar, B. et al.\n",
      "----------------------------------------------------------------\n",
      "\n",
      "\n",
      "\n",
      "\n",
      "Text 1 chunk: Integrating the stress response: lessons for neurodegenerative diseases from C. elegans. Trends Cell Biol. 19, 52–61 (2009). 47. Ben-Zvi, A., Miller, E. A. & Morimoto, R. I. Collapse of proteostasis represents an early molecular event in Caenorhabditis elegans aging. Proc. Natl Acad. Sci. USA 106, 14914–14919 (2009). 48. Vilchez, D. et al. RPN-6 determines C. elegans longevity under proteotoxic stress conditions. Nature 489, 263–268 (2012). 49. Sun, T., Wang, X., Lu, Q., Ren, H. & Zhang, H. CUP-5, the C. elegans ortholog of the mammalian lysosomal channel protein MLN1/TRPML1, is required for proteolytic degradation in autolysosomes. Autophagy 7, 1308–1315 (2011). 50. Wu, Y. et al. PI3P phosphatase activity is required for autophagosome maturation and autolysosome formation. EMBO Rep. 15, 973–981 (2014). 51. Toth, M. L. et al. Longevity pathways converge on autophagy genes to regulate life span in Caenorhabditis elegans. Autophagy 4, 330–338 (2008). 52. Wu, F. et al. Structural basis of the differential function of the two C. elegans Atg8 homologs, LGG-1 and LGG-2, in autophagy. Mol. Cell 60, 914–929 (2015). NATURE COMMUNICATIONS | https://doi.org/10.1038/s41467-019-13540-4 ARTICLE NATURE COMMUNICATIONS | (2019) 10:5648 | https://doi.org/10.1038/s41467-019-13540-4 | www.nature.com/naturecommunications 11 53. Chang, J. T., Kumsta, C., Hellman, A. B., Adams, L. M. & Hansen, M. Spatiotemporal regulation of autophagy during Caenorhabditis elegans aging. Elife 6, https://doi.org/10.7554/eLife.18459 (2017). 54. Ventura, N. et al. p53/CEP-1 increases or decreases lifespan, depending on level of mitochondrial bioenergetic stress. Aging Cell 8, 380–393 (2009). 55. Zaffagnini, G. & Martens, S. Mechanisms of selective autophagy. J. Mol. Biol. 428, 1714–1724 (2016). 56. Itakura, E. & Mizushima, N. p62 Targeting to the autophagosome formation site requires self-oligomerization but not LC3 binding. J. Cell Biol. 192, 17–27 (2011). 57. Fujita, N. et al.\n",
      "\n",
      "Text 2 chunk: Decline in protease activities with age in the nematode Caenorhabditis elegans. Mech. Ageing Dev. 45, 191–201 (1988). 27. Hughes, A. L. & Gottschling, D. E. An early age increase in vacuolar pH limits mitochondrial function and lifespan in yeast. Nature 492, 261–265 (2012). 28. Chang, J. T., Kumsta, C., Hellman, A. B., Adams, L. M. & Hansen, M. Spatiotemporal regulation of autophagy during Caenorhabditis elegans aging. eLife https://doi.org/10.7554/eLife.18459 (2017). 29. Wilhelm, T. et al. Neuronal inhibition of the autophagy nucleation complex extends life span in post-reproductive C. elegans. Genes Dev. 31, 1561–1572 (2017). 30. Simonsen, A. et al. Promoting basal levels of autophagy in the nervous system enhances longevity and oxidant resistance in adult Drosophila. Autophagy 4, 176–184 (2008). 31. Kaushik, S. et al. Loss of autophagy in hypothalamic POMC neurons impairs lipolysis. EMBO Rep. 13, 258–265 (2012). 32. Ott, C., Konig, J., Hohn, A., Jung, T. & Grune, T. Macroautophagy is impaired in old murine brain tissue as well as in senescent human fibroblasts. Redox Biol. 10, 266–273 (2016). 33. Triplett, J. C. et al. Age-related changes in the proteostasis network in the brain of the naked mole-rat: implications promoting healthy longevity. Biochim. Biophys. Acta 1852, 2213–2224 (2015). 34. Yu, Y. et al. The alteration of autophagy and apoptosis in the hippocampus of rats with natural aging-dependent cognitive deficits. Behav. Brain Res. 334, 155–162 (2017). 35. Lipinski, M. M. et al. Genome-wide analysis reveals mechanisms modulating autophagy in normal brain aging and in Alzheimer’s disease. Proc. Natl Acad. Sci. USA 107, 14164–14169 (2010). 36. Cheon, S. Y., Kim, H., Rubinsztein, D. C. & Lee, J. E. Autophagy, cellular aging and age-related human diseases. Exp. Neurobiol. 28, 643–657 (2019). 37. Lou, G. et al. Mitophagy and neuroprotection. Trends Mol. Med. https://doi. org/10.1016/j.molmed.2019.07.002 (2019). 38. Matecic, M. et al.\n",
      "----------------------------------------------------------------\n",
      "\n",
      "\n",
      "\n",
      "\n",
      "Text 1 chunk: Data availability The authors declare that all data supporting the ﬁndings of this study are available within this article, its Supplementary Information ﬁles, the peer-review ﬁle, or are available from the corresponding author upon reasonable request. Received: 22 November 2018; Accepted: 13 November 2019; References 1. Kroemer, G., Marino, G. & Levine, B. Autophagy and the integrated stress response. Mol. Cell 40, 280–293 (2010). 2. Kumsta, C., Chang, J. T., Schmalz, J. & Hansen, M. Hormetic heat stress and HSF-1 induce autophagy to improve survival and proteostasis in C. elegans. Nat. Commun. 8, 14337 (2017). 3. Hansen, M., Rubinsztein, D. C. & Walker, D. W. Autophagy as a promoter of longevity: insights from model organisms. Nat. Rev. Mol. Cell Biol. 19, 579–593 (2018). 4. Gatica, D., Lahiri, V. & Klionsky, D. J. Cargo recognition and degradation by selective autophagy. Nat. Cell Biol. 20, 233–242 (2018). 5. Pankiv, S. et al. p62/SQSTM1 binds directly to Atg8/LC3 to facilitate degradation of ubiquitinated protein aggregates by autophagy. J. Biol. Chem. 282, 24131–24145 (2007). 6. Ichimura, Y. et al. Structural basis for sorting mechanism of p62 in selective autophagy. J. Biol. Chem. 283, 22847–22857 (2008). 7. Bjorkoy, G. et al. p62/SQSTM1 forms protein aggregates degraded by autophagy and has a protective effect on huntingtin-induced cell death. J. Cell Biol. 171, 603–614 (2005). 8. Korolchuk, V. I., Menzies, F. M. & Rubinsztein, D. C. Mechanisms of cross- talk between the ubiquitin-proteasome and autophagy-lysosome systems. FEBS Lett. 584, 1393–1398 (2010). 9. Liu, W. J. et al. p62 links the autophagy pathway and the ubiqutin-proteasome system upon ubiquitinated protein degradation. Cell Mol. Biol. Lett. 21, 29 (2016). 10. Caccamo, A., Ferreira, E., Branca, C. & Oddo, S. p62 improves AD-like pathology by increasing autophagy. Mol. Psychiatry 22, 865–873 (2017). 11. Doi, H. et al.\n",
      "\n",
      "Text 2 chunk: Hansen, M., Rubinsztein, D. C. & Walker, D. W. Autophagy as a promoter of longevity: insights from model organisms. Nat. Rev. Mol. Cell Biol. 19, 579–593 (2018). 15. Bjorkoy, G. et al. p62/SQSTM1 forms protein aggregates degraded by autophagy and has a protective effect on huntingtin-induced cell death. J. Cell Biol. 171, 603–614 (2005). 16. Pankiv, S. et al. p62/SQSTM1 binds directly to Atg8/LC3 to facilitate degradation of ubiquitinated protein aggregates by autophagy. J. Biol. Chem. 282, 24131–24145 (2007). 17. Kirkin, V. History of the selective autophagy research: how did it begin and where does it stand today? J. Mol. Biol. 432, 3–27 (2020). 18. Gatica, D., Lahiri, V. & Klionsky, D. J. Cargo recognition and degradation by selective autophagy. Nat. Cell Biol. 20, 233–242 (2018). 19. Menzies, F. M., Fleming, A. & Rubinsztein, D. C. Compromised autophagy and neurodegenerative diseases. Nat. Rev. Neurosci. 16, 345–357 (2015). 20. Kim, S. et al. Fisetin stimulates autophagic degradation of phosphorylated tau via the activation of TFEB and Nrf2 transcription factors. Sci. Rep. 6, 24933 (2016). 21. Medina, D. L. et al. Lysosomal calcium signalling regulates autophagy through calcineurin and TFEB. Nat. Cell Biol. 17, 288–299 (2015). 22. Settembre, C. et al. A lysosome-to-nucleus signalling mechanism senses and regulates the lysosome via mTOR and TFEB. EMBO J. 31, 1095–1108 (2012). 23. El-Houjeiri, L. et al. The transcription factors TFEB and TFE3 link the FLCN–AMPK signaling axis to innate immune response and pathogen resistance. Cell Rep. 26, 3613–3628 (2019). 24. Cuervo, A. M. & Dice, J. F. How do intracellular proteolytic systems change with age? Front. Biosci. 3, D25–D43 (1998). 25. Sun, Y. et al. Lysosome activity is modulated by multiple longevity pathways and is important for lifespan extension in C. elegans. eLife https://doi. org/10.7554/eLife.55745 (2020). 26. Sarkis, G. J., Ashcom, J. D., Hawdon, J. M. & Jacobson, L. A.\n",
      "----------------------------------------------------------------\n",
      "\n",
      "\n",
      "\n",
      "\n",
      "Text 1 chunk: Integrating the stress response: lessons for neurodegenerative diseases from C. elegans. Trends Cell Biol. 19, 52–61 (2009). 47. Ben-Zvi, A., Miller, E. A. & Morimoto, R. I. Collapse of proteostasis represents an early molecular event in Caenorhabditis elegans aging. Proc. Natl Acad. Sci. USA 106, 14914–14919 (2009). 48. Vilchez, D. et al. RPN-6 determines C. elegans longevity under proteotoxic stress conditions. Nature 489, 263–268 (2012). 49. Sun, T., Wang, X., Lu, Q., Ren, H. & Zhang, H. CUP-5, the C. elegans ortholog of the mammalian lysosomal channel protein MLN1/TRPML1, is required for proteolytic degradation in autolysosomes. Autophagy 7, 1308–1315 (2011). 50. Wu, Y. et al. PI3P phosphatase activity is required for autophagosome maturation and autolysosome formation. EMBO Rep. 15, 973–981 (2014). 51. Toth, M. L. et al. Longevity pathways converge on autophagy genes to regulate life span in Caenorhabditis elegans. Autophagy 4, 330–338 (2008). 52. Wu, F. et al. Structural basis of the differential function of the two C. elegans Atg8 homologs, LGG-1 and LGG-2, in autophagy. Mol. Cell 60, 914–929 (2015). NATURE COMMUNICATIONS | https://doi.org/10.1038/s41467-019-13540-4 ARTICLE NATURE COMMUNICATIONS | (2019) 10:5648 | https://doi.org/10.1038/s41467-019-13540-4 | www.nature.com/naturecommunications 11 53. Chang, J. T., Kumsta, C., Hellman, A. B., Adams, L. M. & Hansen, M. Spatiotemporal regulation of autophagy during Caenorhabditis elegans aging. Elife 6, https://doi.org/10.7554/eLife.18459 (2017). 54. Ventura, N. et al. p53/CEP-1 increases or decreases lifespan, depending on level of mitochondrial bioenergetic stress. Aging Cell 8, 380–393 (2009). 55. Zaffagnini, G. & Martens, S. Mechanisms of selective autophagy. J. Mol. Biol. 428, 1714–1724 (2016). 56. Itakura, E. & Mizushima, N. p62 Targeting to the autophagosome formation site requires self-oligomerization but not LC3 binding. J. Cell Biol. 192, 17–27 (2011). 57. Fujita, N. et al.\n",
      "\n",
      "Text 2 chunk: A microarray-based genetic screen for yeast chronological aging factors. PLoS Genet. 6, e1000921 (2010). 39. Toth, M. L. et al. Longevity pathways converge on autophagy genes to regulate life span in Caenorhabditis elegans. Autophagy 4, 330–338 (2008). 40. Kuma, A., Komatsu, M. & Mizushima, N. Autophagy-monitoring and autophagy-deficient mice. Autophagy 13, 1619–1628 (2017). 41. Lin, X. X. et al. DAF-16/FOXO and HLH-30/TFEB function as combinatorial transcription factors to promote stress resistance and longevity. Nat. Commun. 9, 4400 (2018). 42. Melendez, A. et al. Autophagy genes are essential for dauer development and life-span extension in C. elegans. Science 301, 1387–1391 (2003). 43. Lapierre, L. R. et al. The TFEB orthologue HLH-30 regulates autophagy and modulates longevity in Caenorhabditis elegans. Nat. Commun. 4, 2267 (2013). 44. Pyo, J. O. et al. Overexpression of Atg5 in mice activates autophagy and extends lifespan. Nat. Commun. 4, 2300 (2013). 45. Ulgherait, M., Rana, A., Rera, M., Graniel, J. & Walker, D. W. AMPK modulates tissue and organismal aging in a non-cell-autonomous manner. Cell Rep. 8, 1767–1780 (2014). 46. Fernandez, A. F. et al. Disruption of the beclin 1–BCL2 autophagy regulatory complex promotes longevity in mice. Nature 558, 136–140 (2018). 47. Silvestrini, M. J. et al. Nuclear export inhibition enhances HLH-30/TFEB activity, autophagy, and lifespan. Cell Rep. 23, 1915–1921 (2018). 48. Harrison, D. E. et al. Rapamycin fed late in life extends lifespan in genetically heterogeneous mice. Nature 460, 392–395 (2009). 49. Pareja-Cajiao, M. et al. Age-related impairment of autophagy in cervical motor neurons. Exp. Gerontol. 144, 111193 (2021). 50. Nettesheim, A. et al. Autophagy in the aging and experimental ocular hypertensive mouse model. Invest. Ophthalmol. Vis. Sci. 61, 31 (2020). 51. Fernando, R. et al. Age-related maintenance of the autophagy–lysosomal system is dependent on skeletal muscle type. Oxid. Med. Cell. Longev.\n",
      "----------------------------------------------------------------\n",
      "\n",
      "\n",
      "\n",
      "\n",
      "Text 1 chunk: Integrating the stress response: lessons for neurodegenerative diseases from C. elegans. Trends Cell Biol. 19, 52–61 (2009). 47. Ben-Zvi, A., Miller, E. A. & Morimoto, R. I. Collapse of proteostasis represents an early molecular event in Caenorhabditis elegans aging. Proc. Natl Acad. Sci. USA 106, 14914–14919 (2009). 48. Vilchez, D. et al. RPN-6 determines C. elegans longevity under proteotoxic stress conditions. Nature 489, 263–268 (2012). 49. Sun, T., Wang, X., Lu, Q., Ren, H. & Zhang, H. CUP-5, the C. elegans ortholog of the mammalian lysosomal channel protein MLN1/TRPML1, is required for proteolytic degradation in autolysosomes. Autophagy 7, 1308–1315 (2011). 50. Wu, Y. et al. PI3P phosphatase activity is required for autophagosome maturation and autolysosome formation. EMBO Rep. 15, 973–981 (2014). 51. Toth, M. L. et al. Longevity pathways converge on autophagy genes to regulate life span in Caenorhabditis elegans. Autophagy 4, 330–338 (2008). 52. Wu, F. et al. Structural basis of the differential function of the two C. elegans Atg8 homologs, LGG-1 and LGG-2, in autophagy. Mol. Cell 60, 914–929 (2015). NATURE COMMUNICATIONS | https://doi.org/10.1038/s41467-019-13540-4 ARTICLE NATURE COMMUNICATIONS | (2019) 10:5648 | https://doi.org/10.1038/s41467-019-13540-4 | www.nature.com/naturecommunications 11 53. Chang, J. T., Kumsta, C., Hellman, A. B., Adams, L. M. & Hansen, M. Spatiotemporal regulation of autophagy during Caenorhabditis elegans aging. Elife 6, https://doi.org/10.7554/eLife.18459 (2017). 54. Ventura, N. et al. p53/CEP-1 increases or decreases lifespan, depending on level of mitochondrial bioenergetic stress. Aging Cell 8, 380–393 (2009). 55. Zaffagnini, G. & Martens, S. Mechanisms of selective autophagy. J. Mol. Biol. 428, 1714–1724 (2016). 56. Itakura, E. & Mizushima, N. p62 Targeting to the autophagosome formation site requires self-oligomerization but not LC3 binding. J. Cell Biol. 192, 17–27 (2011). 57. Fujita, N. et al.\n",
      "\n",
      "Text 2 chunk: A life-span extending form of autophagy employs the vacuole–vacuole fusion machinery. Autophagy 4, 874–886 (2008). 233. Rieter, E. et al. Atg18 function in autophagy is regulated by specific sites within its β-propeller. J. Cell Sci. 126, 593–604 (2013). 234. McQuary, P. R. et al. C. elegans S6K mutants require a creatine-kinase-like effector for lifespan extension. Cell Rep. 14, 2059–2067 (2016). 235. Narendra, D., Tanaka, A., Suen, D. F. & Youle, R. J. Parkin is recruited selectively to impaired mitochondria and promotes their autophagy. J. Cell Biol. 183, 795–803 (2008). 236. Rana, A., Rera, M. & Walker, D. W. Parkin overexpression during aging reduces proteotoxicity, alters mitochondrial dynamics, and extends lifespan. Proc. Natl Acad. Sci. USA 110, 8638–8643 (2013). 237. Zhuang, N., Li, L., Chen, S. & Wang, T. PINK1-dependent phosphorylation of PINK1 and parkin is essential for mitochondrial quality control. Cell Death Dis. 7, e2501 (2016). 238. Schiavi, A. et al. Iron-starvation-induced mitophagy mediates lifespan extension upon mitochondrial stress in C. elegans. Curr. Biol. 25, 1810–1822 (2015). 239. Johansen, T. & Lamark, T. Selective autophagy mediated by autophagic adapter proteins. Autophagy 7, 279–296 (2011). 240. Parekh, V. V. et al. Autophagy-related protein Vps34 controls the homeostasis and function of antigen cross-presenting CD8α+ dendritic cells. Proc. Natl Acad. Sci. USA 114, E6371–E6380 (2017). 241. Cabreiro, F. et al. Metformin retards aging in C. elegans by altering microbial folate and methionine metabolism. Cell 153, 228–239 (2013). 242. Partridge, L., Fuentealba, M. & Kennedy, B. K. The quest to slow ageing through drug discovery. Nat. Rev. Drug Discov. 19, 513–532 (2020). 243. Lu, Y. X. et al. A TORC1-histone axis regulates chromatin organisation and non-canonical induction of autophagy to ameliorate ageing. eLife 10, e62233 (2021). 244. Fivenson, E. M. et al. Mitophagy in neurodegeneration and aging. Neurochem. Int. 109, 202–209 (2017).\n",
      "----------------------------------------------------------------\n",
      "\n",
      "\n",
      "\n",
      "\n",
      "Text 1 chunk: Data availability The authors declare that all data supporting the ﬁndings of this study are available within this article, its Supplementary Information ﬁles, the peer-review ﬁle, or are available from the corresponding author upon reasonable request. Received: 22 November 2018; Accepted: 13 November 2019; References 1. Kroemer, G., Marino, G. & Levine, B. Autophagy and the integrated stress response. Mol. Cell 40, 280–293 (2010). 2. Kumsta, C., Chang, J. T., Schmalz, J. & Hansen, M. Hormetic heat stress and HSF-1 induce autophagy to improve survival and proteostasis in C. elegans. Nat. Commun. 8, 14337 (2017). 3. Hansen, M., Rubinsztein, D. C. & Walker, D. W. Autophagy as a promoter of longevity: insights from model organisms. Nat. Rev. Mol. Cell Biol. 19, 579–593 (2018). 4. Gatica, D., Lahiri, V. & Klionsky, D. J. Cargo recognition and degradation by selective autophagy. Nat. Cell Biol. 20, 233–242 (2018). 5. Pankiv, S. et al. p62/SQSTM1 binds directly to Atg8/LC3 to facilitate degradation of ubiquitinated protein aggregates by autophagy. J. Biol. Chem. 282, 24131–24145 (2007). 6. Ichimura, Y. et al. Structural basis for sorting mechanism of p62 in selective autophagy. J. Biol. Chem. 283, 22847–22857 (2008). 7. Bjorkoy, G. et al. p62/SQSTM1 forms protein aggregates degraded by autophagy and has a protective effect on huntingtin-induced cell death. J. Cell Biol. 171, 603–614 (2005). 8. Korolchuk, V. I., Menzies, F. M. & Rubinsztein, D. C. Mechanisms of cross- talk between the ubiquitin-proteasome and autophagy-lysosome systems. FEBS Lett. 584, 1393–1398 (2010). 9. Liu, W. J. et al. p62 links the autophagy pathway and the ubiqutin-proteasome system upon ubiquitinated protein degradation. Cell Mol. Biol. Lett. 21, 29 (2016). 10. Caccamo, A., Ferreira, E., Branca, C. & Oddo, S. p62 improves AD-like pathology by increasing autophagy. Mol. Psychiatry 22, 865–873 (2017). 11. Doi, H. et al.\n",
      "\n",
      "Text 2 chunk: Inhibition of mTOR induces autophagy and reduces toxicity of polyglutamine expansions in fly and mouse models of Huntington disease. Nat. Genet. 36, 585–595 (2004). NATuRE AGING | VOL 1 | AUGUST 2021 | 634–650 | www.nature.com/nataging 646 Review ARticle NATURe AgINg 66. Fang, E. F. et al. Defective mitophagy in XPA via PARP-1 hyperactivation and NAD+/SIRT1 reduction. Cell 157, 882–896 (2014). 67. Boland, B. et al. Promoting the clearance of neurotoxic proteins in neurodegenerative disorders of ageing. Nat. Rev. Drug Discov. 17, 660–688 (2018). 68. Fang, E. F. et al. Nuclear DNA damage signalling to mitochondria in ageing. Nat. Rev. Mol. Cell Biol. 17, 308–321 (2016). 69. Rubinsztein, D. C., Marino, G. & Kroemer, G. Autophagy and aging. Cell 146, 682–695 (2011). 70. Kumsta, C., Chang, J. T., Schmalz, J. & Hansen, M. Hormetic heat stress and HSF-1 induce autophagy to improve survival and proteostasis in C. elegans. Nat. Commun. 8, 14337 (2017). 71. Juhasz, G., Erdi, B., Sass, M. & Neufeld, T. P. Atg7-dependent autophagy promotes neuronal health, stress tolerance, and longevity but is dispensable for metamorphosis in Drosophila. Genes Dev. 21, 3061–3066 (2007). 72. Hara, T. et al. Suppression of basal autophagy in neural cells causes neurodegenerative disease in mice. Nature 441, 885–889 (2006). 73. Komatsu, M. et al. Loss of autophagy in the central nervous system causes neurodegeneration in mice. Nature 441, 880–884 (2006). 74. Friedman, L. G. et al. Disrupted autophagy leads to dopaminergic axon and dendrite degeneration and promotes presynaptic accumulation of α-synuclein and LRRK2 in the brain. J. Neurosci. 32, 7585–7593 (2012). 75. Schneider, J. L. et al. Loss of hepatic chaperone-mediated autophagy accelerates proteostasis failure in aging. Aging Cell 14, 249–264 (2015). 76. Kumsta, C. et al. The autophagy receptor p62/SQST-1 promotes proteostasis and longevity in C. elegans by inducing autophagy. Nat. Commun. 10, 5648 (2019). 77. Aparicio, R., Rana, A.\n",
      "----------------------------------------------------------------\n",
      "\n",
      "\n",
      "\n",
      "\n",
      "Text 1 chunk: & Avery, L. Dual roles of autophagy in the survival of Caenorhabditis elegans during starvation. Genes Dev. 21, 2161–2171 (2007). 36. Gelino, S. et al. Intestinal autophagy improves healthspan and longevity in C. elegans during dietary restriction. PLoS Genet. 12, e1006135 (2016). 37. Manil-Segalen, M. et al. The C. elegans LC3 acts downstream of GABARAP to degrade autophagosomes by interacting with the HOPS subunit VPS39. Dev. Cell 28, 43–55 (2014). 38. Klionsky, D. J. et al. Guidelines for the use and interpretation of assays for monitoring autophagy (3rd edition). Autophagy 12, 1–222 (2016). 39. Zhang, H. et al. Guidelines for monitoring autophagy in Caenorhabditis elegans. Autophagy 11, 9–27 (2015). 40. Wilkinson, D. S. et al. Phosphorylation of LC3 by the Hippo kinases STK3/ STK4 is essential for autophagy. Mol. cell 57, 55–68 (2015). 41. Morley, J. F., Brignull, H. R., Weyers, J. J. & Morimoto, R. I. The threshold for polyglutamine-expansion protein aggregation and cellular toxicity is dynamic and inﬂuenced by aging in Caenorhabditis elegans. Proc. Natl Acad. Sci. USA 99, 10417–10422 (2002). 42. Mohri-Shiomi, A. & Garsin, D. A. Insulin signaling and the heat shock response modulate protein homeostasis in the Caenorhabditis elegans intestine during infection. J. Biol. Chem. 283, 194–201 (2008). 43. Gidalevitz, T., Ben-Zvi, A., Ho, K. H., Brignull, H. R. & Morimoto, R. I. Progressive disruption of cellular protein folding in models of polyglutamine diseases. Science 311, 1471–1474 (2006). 44. Moronetti Mazzeo, L. E., Dersh, D., Boccitto, M., Kalb, R. G. & Lamitina, T. Stress and aging induce distinct polyQ protein aggregation states. Proc. Natl Acad. Sci. USA 109, 10587–10592 (2012). 45. Jia, K., Hart, A. C. & Levine, B. Autophagy genes protect against disease caused by polyglutamine expansion proteins in Caenorhabditis elegans. Autophagy 3, 21–25 (2007). 46. Prahlad, V. & Morimoto, R. I.\n",
      "\n",
      "Text 2 chunk: 2020, 4908162 (2020). 52. Liang, W. et al. Aging is associated with a decline in Atg9b-mediated autophagosome formation and appearance of enlarged mitochondria in the heart. Aging Cell 19, e13187 (2020). 53. Kamihara, T. & Murohara, T. Bioinformatics analysis of autophagy– lysosomal degradation in cardiac aging. Geriatr. Gerontol. Int. 21, 108–115 (2021). 54. Fang, Y. et al. Autophagy–Sirt3 axis decelerates hematopoietic aging. Aging Cell 19, e13232 (2020). 55. Alsaleh, G. et al. Autophagy in T cells from aged donors is maintained by spermidine and correlates with function and vaccine responses. eLife https://doi.org/10.7554/eLife.57950 (2020). 56. De Risi, M. et al. Mechanisms by which autophagy regulates memory capacity in ageing. Aging Cell 19, e13189 (2020). 57. Yamamuro, T. et al. Age-dependent loss of adipose Rubicon promotes metabolic disorders via excess autophagy. Nat. Commun. 11, 4150 (2020). 58. Zhou, B. et al. Mitochondrial permeability uncouples elevated autophagy and lifespan extension. Cell 177, 299–314 (2019). 59. Ezcurra, M. et al. C. elegans eats its own intestine to make yolk leading to multiple senescent pathologies. Curr. Biol. 28, 2544–2556 (2018). 60. Lapierre, L. R. et al. Autophagy genes are required for normal lipid levels in C. elegans. Autophagy 9, 278–286 (2013). 61. Hansen, M. et al. A role for autophagy in the extension of lifespan by dietary restriction in C. elegans. PLoS Genet. 4, e24 (2008). 62. Labbadia, J. & Morimoto, R. I. The biology of proteostasis in aging and disease. Annu. Rev. Biochem. 84, 435–464 (2015). 63. Lopez-Otin, C., Blasco, M. A., Partridge, L., Serrano, M. & Kroemer, G. The hallmarks of aging. Cell 153, 1194–1217 (2013). 64. Ravikumar, B., Duden, R. & Rubinsztein, D. C. Aggregate-prone proteins with polyglutamine and polyalanine expansions are degraded by autophagy. Hum. Mol. Genet. 11, 1107–1117 (2002). 65. Ravikumar, B. et al.\n",
      "----------------------------------------------------------------\n",
      "\n",
      "\n",
      "\n",
      "\n",
      "Text 1 chunk: Iron-starvation-induced mitophagy mediates lifespan extension upon mitochondrial stress in C. elegans. Curr. Biol. 25, 1810–1822 (2015). 24. Lin, L. et al. The scaffold protein EPG-7 links cargo-receptor complexes with the autophagic assembly machinery. J. Cell Biol. 201, 113–129 (2013). 25. Du, Y., Wooten, M. C., Gearing, M. & Wooten, M. W. Age-associated oxidative damage to the p62 promoter: implications for Alzheimer disease. Free Radic. Biol. Med. 46, 492–501 (2009). 26. Du, Y., Wooten, M. C. & Wooten, M. W. Oxidative damage to the promoter region of SQSTM1/p62 is common to neurodegenerative disease. Neurobiol. Dis. 35, 302–310 (2009). 27. Richter, K., Haslbeck, M. & Buchner, J. The heat shock response: life on the verge of death. Mol. Cell 40, 253–266 (2010). 28. Vabulas, R. M., Raychaudhuri, S., Hayer-Hartl, M. & Hartl, F. U. Protein folding in the cytoplasm and the heat shock response. Cold Spring Harb. Perspect. Biol. 2, a004390 (2010). 29. Wallace, E. W. et al. Reversible, speciﬁc, active aggregates of endogenous proteins assemble upon heat stress. Cell 162, 1286–1298 (2015). 30. Salomons, F. A. et al. Selective accumulation of aggregation-prone proteasome substrates in response to proteotoxic stress. Mol. Cell Biol. 29, 1774–1785 (2009). 31. Guo, B. et al. The nascent polypeptide-associated complex is essential for autophagic ﬂux. Autophagy 10, 1738–1748 (2014). 32. McKay, S. J. et al. Gene expression proﬁling of cells, tissues, and developmental stages of the nematode C. elegans. Cold Spring Harb. Symp. Quant. Biol. 68, 159–169 (2003). 33. Springhorn, A. & Hoppe, T. Western blot analysis of the autophagosomal membrane protein LGG-1/LC3 in Caenorhabditis elegans. Methods Enzymol. 619, 319–336 (2019). 34. Melendez, A. et al. Autophagy genes are essential for dauer development and life-span extension in C. elegans. Science 301, 1387–1391 (2003). 35. Kang, C., You, Y. J.\n",
      "\n",
      "Text 2 chunk: A microarray-based genetic screen for yeast chronological aging factors. PLoS Genet. 6, e1000921 (2010). 39. Toth, M. L. et al. Longevity pathways converge on autophagy genes to regulate life span in Caenorhabditis elegans. Autophagy 4, 330–338 (2008). 40. Kuma, A., Komatsu, M. & Mizushima, N. Autophagy-monitoring and autophagy-deficient mice. Autophagy 13, 1619–1628 (2017). 41. Lin, X. X. et al. DAF-16/FOXO and HLH-30/TFEB function as combinatorial transcription factors to promote stress resistance and longevity. Nat. Commun. 9, 4400 (2018). 42. Melendez, A. et al. Autophagy genes are essential for dauer development and life-span extension in C. elegans. Science 301, 1387–1391 (2003). 43. Lapierre, L. R. et al. The TFEB orthologue HLH-30 regulates autophagy and modulates longevity in Caenorhabditis elegans. Nat. Commun. 4, 2267 (2013). 44. Pyo, J. O. et al. Overexpression of Atg5 in mice activates autophagy and extends lifespan. Nat. Commun. 4, 2300 (2013). 45. Ulgherait, M., Rana, A., Rera, M., Graniel, J. & Walker, D. W. AMPK modulates tissue and organismal aging in a non-cell-autonomous manner. Cell Rep. 8, 1767–1780 (2014). 46. Fernandez, A. F. et al. Disruption of the beclin 1–BCL2 autophagy regulatory complex promotes longevity in mice. Nature 558, 136–140 (2018). 47. Silvestrini, M. J. et al. Nuclear export inhibition enhances HLH-30/TFEB activity, autophagy, and lifespan. Cell Rep. 23, 1915–1921 (2018). 48. Harrison, D. E. et al. Rapamycin fed late in life extends lifespan in genetically heterogeneous mice. Nature 460, 392–395 (2009). 49. Pareja-Cajiao, M. et al. Age-related impairment of autophagy in cervical motor neurons. Exp. Gerontol. 144, 111193 (2021). 50. Nettesheim, A. et al. Autophagy in the aging and experimental ocular hypertensive mouse model. Invest. Ophthalmol. Vis. Sci. 61, 31 (2020). 51. Fernando, R. et al. Age-related maintenance of the autophagy–lysosomal system is dependent on skeletal muscle type. Oxid. Med. Cell. Longev.\n",
      "----------------------------------------------------------------\n",
      "\n",
      "\n",
      "\n",
      "\n",
      "Text 1 chunk: Iron-starvation-induced mitophagy mediates lifespan extension upon mitochondrial stress in C. elegans. Curr. Biol. 25, 1810–1822 (2015). 24. Lin, L. et al. The scaffold protein EPG-7 links cargo-receptor complexes with the autophagic assembly machinery. J. Cell Biol. 201, 113–129 (2013). 25. Du, Y., Wooten, M. C., Gearing, M. & Wooten, M. W. Age-associated oxidative damage to the p62 promoter: implications for Alzheimer disease. Free Radic. Biol. Med. 46, 492–501 (2009). 26. Du, Y., Wooten, M. C. & Wooten, M. W. Oxidative damage to the promoter region of SQSTM1/p62 is common to neurodegenerative disease. Neurobiol. Dis. 35, 302–310 (2009). 27. Richter, K., Haslbeck, M. & Buchner, J. The heat shock response: life on the verge of death. Mol. Cell 40, 253–266 (2010). 28. Vabulas, R. M., Raychaudhuri, S., Hayer-Hartl, M. & Hartl, F. U. Protein folding in the cytoplasm and the heat shock response. Cold Spring Harb. Perspect. Biol. 2, a004390 (2010). 29. Wallace, E. W. et al. Reversible, speciﬁc, active aggregates of endogenous proteins assemble upon heat stress. Cell 162, 1286–1298 (2015). 30. Salomons, F. A. et al. Selective accumulation of aggregation-prone proteasome substrates in response to proteotoxic stress. Mol. Cell Biol. 29, 1774–1785 (2009). 31. Guo, B. et al. The nascent polypeptide-associated complex is essential for autophagic ﬂux. Autophagy 10, 1738–1748 (2014). 32. McKay, S. J. et al. Gene expression proﬁling of cells, tissues, and developmental stages of the nematode C. elegans. Cold Spring Harb. Symp. Quant. Biol. 68, 159–169 (2003). 33. Springhorn, A. & Hoppe, T. Western blot analysis of the autophagosomal membrane protein LGG-1/LC3 in Caenorhabditis elegans. Methods Enzymol. 619, 319–336 (2019). 34. Melendez, A. et al. Autophagy genes are essential for dauer development and life-span extension in C. elegans. Science 301, 1387–1391 (2003). 35. Kang, C., You, Y. J.\n",
      "\n",
      "Text 2 chunk: 2020, 4908162 (2020). 52. Liang, W. et al. Aging is associated with a decline in Atg9b-mediated autophagosome formation and appearance of enlarged mitochondria in the heart. Aging Cell 19, e13187 (2020). 53. Kamihara, T. & Murohara, T. Bioinformatics analysis of autophagy– lysosomal degradation in cardiac aging. Geriatr. Gerontol. Int. 21, 108–115 (2021). 54. Fang, Y. et al. Autophagy–Sirt3 axis decelerates hematopoietic aging. Aging Cell 19, e13232 (2020). 55. Alsaleh, G. et al. Autophagy in T cells from aged donors is maintained by spermidine and correlates with function and vaccine responses. eLife https://doi.org/10.7554/eLife.57950 (2020). 56. De Risi, M. et al. Mechanisms by which autophagy regulates memory capacity in ageing. Aging Cell 19, e13189 (2020). 57. Yamamuro, T. et al. Age-dependent loss of adipose Rubicon promotes metabolic disorders via excess autophagy. Nat. Commun. 11, 4150 (2020). 58. Zhou, B. et al. Mitochondrial permeability uncouples elevated autophagy and lifespan extension. Cell 177, 299–314 (2019). 59. Ezcurra, M. et al. C. elegans eats its own intestine to make yolk leading to multiple senescent pathologies. Curr. Biol. 28, 2544–2556 (2018). 60. Lapierre, L. R. et al. Autophagy genes are required for normal lipid levels in C. elegans. Autophagy 9, 278–286 (2013). 61. Hansen, M. et al. A role for autophagy in the extension of lifespan by dietary restriction in C. elegans. PLoS Genet. 4, e24 (2008). 62. Labbadia, J. & Morimoto, R. I. The biology of proteostasis in aging and disease. Annu. Rev. Biochem. 84, 435–464 (2015). 63. Lopez-Otin, C., Blasco, M. A., Partridge, L., Serrano, M. & Kroemer, G. The hallmarks of aging. Cell 153, 1194–1217 (2013). 64. Ravikumar, B., Duden, R. & Rubinsztein, D. C. Aggregate-prone proteins with polyglutamine and polyalanine expansions are degraded by autophagy. Hum. Mol. Genet. 11, 1107–1117 (2002). 65. Ravikumar, B. et al.\n",
      "----------------------------------------------------------------\n",
      "\n",
      "\n",
      "\n",
      "\n",
      "Text 1 chunk: Iron-starvation-induced mitophagy mediates lifespan extension upon mitochondrial stress in C. elegans. Curr. Biol. 25, 1810–1822 (2015). 24. Lin, L. et al. The scaffold protein EPG-7 links cargo-receptor complexes with the autophagic assembly machinery. J. Cell Biol. 201, 113–129 (2013). 25. Du, Y., Wooten, M. C., Gearing, M. & Wooten, M. W. Age-associated oxidative damage to the p62 promoter: implications for Alzheimer disease. Free Radic. Biol. Med. 46, 492–501 (2009). 26. Du, Y., Wooten, M. C. & Wooten, M. W. Oxidative damage to the promoter region of SQSTM1/p62 is common to neurodegenerative disease. Neurobiol. Dis. 35, 302–310 (2009). 27. Richter, K., Haslbeck, M. & Buchner, J. The heat shock response: life on the verge of death. Mol. Cell 40, 253–266 (2010). 28. Vabulas, R. M., Raychaudhuri, S., Hayer-Hartl, M. & Hartl, F. U. Protein folding in the cytoplasm and the heat shock response. Cold Spring Harb. Perspect. Biol. 2, a004390 (2010). 29. Wallace, E. W. et al. Reversible, speciﬁc, active aggregates of endogenous proteins assemble upon heat stress. Cell 162, 1286–1298 (2015). 30. Salomons, F. A. et al. Selective accumulation of aggregation-prone proteasome substrates in response to proteotoxic stress. Mol. Cell Biol. 29, 1774–1785 (2009). 31. Guo, B. et al. The nascent polypeptide-associated complex is essential for autophagic ﬂux. Autophagy 10, 1738–1748 (2014). 32. McKay, S. J. et al. Gene expression proﬁling of cells, tissues, and developmental stages of the nematode C. elegans. Cold Spring Harb. Symp. Quant. Biol. 68, 159–169 (2003). 33. Springhorn, A. & Hoppe, T. Western blot analysis of the autophagosomal membrane protein LGG-1/LC3 in Caenorhabditis elegans. Methods Enzymol. 619, 319–336 (2019). 34. Melendez, A. et al. Autophagy genes are essential for dauer development and life-span extension in C. elegans. Science 301, 1387–1391 (2003). 35. Kang, C., You, Y. J.\n",
      "\n",
      "Text 2 chunk: Decline in protease activities with age in the nematode Caenorhabditis elegans. Mech. Ageing Dev. 45, 191–201 (1988). 27. Hughes, A. L. & Gottschling, D. E. An early age increase in vacuolar pH limits mitochondrial function and lifespan in yeast. Nature 492, 261–265 (2012). 28. Chang, J. T., Kumsta, C., Hellman, A. B., Adams, L. M. & Hansen, M. Spatiotemporal regulation of autophagy during Caenorhabditis elegans aging. eLife https://doi.org/10.7554/eLife.18459 (2017). 29. Wilhelm, T. et al. Neuronal inhibition of the autophagy nucleation complex extends life span in post-reproductive C. elegans. Genes Dev. 31, 1561–1572 (2017). 30. Simonsen, A. et al. Promoting basal levels of autophagy in the nervous system enhances longevity and oxidant resistance in adult Drosophila. Autophagy 4, 176–184 (2008). 31. Kaushik, S. et al. Loss of autophagy in hypothalamic POMC neurons impairs lipolysis. EMBO Rep. 13, 258–265 (2012). 32. Ott, C., Konig, J., Hohn, A., Jung, T. & Grune, T. Macroautophagy is impaired in old murine brain tissue as well as in senescent human fibroblasts. Redox Biol. 10, 266–273 (2016). 33. Triplett, J. C. et al. Age-related changes in the proteostasis network in the brain of the naked mole-rat: implications promoting healthy longevity. Biochim. Biophys. Acta 1852, 2213–2224 (2015). 34. Yu, Y. et al. The alteration of autophagy and apoptosis in the hippocampus of rats with natural aging-dependent cognitive deficits. Behav. Brain Res. 334, 155–162 (2017). 35. Lipinski, M. M. et al. Genome-wide analysis reveals mechanisms modulating autophagy in normal brain aging and in Alzheimer’s disease. Proc. Natl Acad. Sci. USA 107, 14164–14169 (2010). 36. Cheon, S. Y., Kim, H., Rubinsztein, D. C. & Lee, J. E. Autophagy, cellular aging and age-related human diseases. Exp. Neurobiol. 28, 643–657 (2019). 37. Lou, G. et al. Mitophagy and neuroprotection. Trends Mol. Med. https://doi. org/10.1016/j.molmed.2019.07.002 (2019). 38. Matecic, M. et al.\n",
      "----------------------------------------------------------------\n",
      "\n",
      "\n"
     ]
    }
   ],
   "source": [
    "# Print the text chunks for the most common embeddings\n",
    "print(\"\\n10 most common text chunks:\")\n",
    "for i in range(10):\n",
    "    index_1, index_2 = most_common_indices[0][i], most_common_indices[1][i]\n",
    "    print(f\"\\nText 1 chunk: {text_1_chunks[index_1 + text_vecs_offset]}\")\n",
    "    print(f\"\\nText 2 chunk: {text_2_chunks[index_2 + text_vecs_offset]}\")\n",
    "    print(\"-\"*64 + \"\\n\\n\\n\")"
   ],
   "metadata": {
    "collapsed": false,
    "ExecuteTime": {
     "end_time": "2024-03-13T16:14:01.671023500Z",
     "start_time": "2024-03-13T16:14:01.559697500Z"
    }
   },
   "id": "68bf6e856283c192",
   "execution_count": 17
  },
  {
   "cell_type": "code",
   "outputs": [
    {
     "name": "stdout",
     "output_type": "stream",
     "text": [
      "\n",
      "10 most different text chunks:\n",
      "\n",
      "Text 1 chunk: NATURE COMMUNICATIONS | https://doi.org/10.1038/s41467-019-13540-4 ARTICLE NATURE COMMUNICATIONS | (2019) 10:5648 | https://doi.org/10.1038/s41467-019-13540-4 | www.nature.com/naturecommunications 5 100 a b c d e h f g 75 Percent alive Percent alive Percent alive Percent alive Percent alive Percent fluorescence intensity Percent fluorescence intensity Percent alive Aggregates in head 50 25 0 100 75 50 25 0 100 75 50 25 0 100 75 50 25 0 100 75 50 25 0 100 75 50 25 0 0 10 20 WT-CTRL WT-CTRL WT-HS WT-CTRL WT-HS P < 0.0001 P < 0.0001 P < 0.0001 P < 0.0001 P < 0.0001 P = 0.4 P = 0.8 P = 0.0003 P = 0.9 WT WT sqst-1 sqst-1; SQST-1 Neuronal SQST-1 OE Neuronal SQST-1 OE-CTRL Neuronal SQST-1 OE-HS Neuronal Q40 Neuronal Q40 ;SQST-1 OE SQST-1 OE-CTRL SQST-1 OE SQST-1 OE SQST-1 OE WT SQST-1 OE-HS sqst-1; SQST-1ΔUBA SQST-1 OE-CTRL Days 30 0 10 20 Days 30 0 1 2 2 3 3 1 10 20 Days FRAP of neuronal Q40 Neuronal Q40 aggregates Diffuse neuronal Q40 WT WT SQST-1 OE WT 30 0 8 n.s. 6 4 2 0 10 20 Days 30 0 10 20 Days 100 50 0 100 50 0 0 50 100 Time (s) 150 0 50 100 Time (s) 150 30 0 10 20 Days 30 Fig. 3 SQST-1 overexpression extends C. elegans lifespan and improves proteostasis. a Lifespan analysis of WT (N2) (N = 58 animals) and SQST-1 OE (sqst-1p::sqst-1::gfp (1)) (N = 88 animals) animals at 20 °C: P-value by log-rank test. b Lifespan analysis of WT (N2) (N = 92 animals), sqst-1(syb764) (N = 88 animals), and sqst-1(syb764) animals expressing either sqst-1p::sqst-1 + rol-6 (sqst-1; SQST-1) (N = 124 animals) or sqst-1p::sqst-1ΔUBA + rol-6 (sqst-1; SQST-1ΔUBA) (N = 107 animals) at 20 °C. P-values by log-rank test. c Lifespan analysis of WT (N2) (N = 85 animals) and neuronal SQST-1 OE (rgef-1p:: sqst-1::gfp (1)) (N = 85 animals) animals at 20 °C. P-value by log-rank test. d Lifespan analysis of WT (N2) and SQST-1 OE (sqst-1p::sqst-1::gfp (1)) animals subjected to hormetic HS on day 1 of adulthood.\n",
      "\n",
      "Text 2 chunk: Fusion of autophagosomes with lysosomes is mainly mediated by the assistance of RAB proteins, SNARE proteins and a HOPS complex. After fusion, the cargo is degraded by lysosomal hydrolases and the degradation products can be reused by the cell. LC3-II bound to the outer membrane is cleaved by ATG4 to be reused for a new round of lipidation.\n",
      "----------------------------------------------------------------\n",
      "\n",
      "\n",
      "\n",
      "\n",
      "Text 1 chunk: WT-CTRL animals (N = 126) compared with WT-HS animals (N = 110): P < 0.0001; sqst-1-CTRL animals (N = 128) (P = 0.3 to WT) compared with sqst-1-HS animals (N = 115): P = 0.004, by log-rank test. See Supplementary Table 2 for experimental details and additional repeats. c Neuronal PolyQ (rgef-1p::Q40::yfp) aggregates detected on day 4 of adulthood in WT and sqst-1(ok2892) (sqst-1) animals maintained under control conditions (20 °C, CTRL) or subjected to HS (1 h at 36 °C) on day 1 of adulthood (HS). Scale bar 20 μm. The number of neuronal PolyQ aggregates were quantiﬁed from three independent experiments in WT-CTRL, N = 43; WT-HS, N = 50; sqst-1-CTRL, N = 48, sqst-1-HS, N = 45 animals. Error bars indicate 95% CI. ns: P > 0.6, **P < 0.01, ****P < 0.0001, by two-way ANOVA with Tukey’s multiple comparisons test. Scale bar 20 and 10 μm for close-up. d, e FRAP measurements of neuronal PolyQ (rgef-1p::Q40::yfp) aggregates on day 8 of adulthood in WT (e) and sqst-1(ok2892) (sqst-1) (f) animals maintained under control conditions (20 °C, CTRL) or subjected to HS (1 h at 36 °C) on day 1 of adulthood (HS). The ﬂuorescence signal was bleached after 20 s and ﬂuorescence recovery was measured for 2 min. The average % of ﬂuorescence intensity was quantiﬁed from three independent experiments in WT-CTRL, N = 32; WT-HS, N = 30; sqst-1-CTRL, N = 32, sqst-1-HS, N = 31 animals. Error bars indicate 95% CI. **P < 0.05, **P < 0.01, ***P < 0.001, by two-way ANOVA with Sidak’s multiple comparisons test. P > 0.05 for all timepoints when comparing WT-CTRL and sqst-1-CTRL by two-way ANOVA with Sidak’s multiple comparisons test. Source data are provided in the Source Data ﬁle.\n",
      "\n",
      "Text 2 chunk: Fusion of autophagosomes with lysosomes is mainly mediated by the assistance of RAB proteins, SNARE proteins and a HOPS complex. After fusion, the cargo is degraded by lysosomal hydrolases and the degradation products can be reused by the cell. LC3-II bound to the outer membrane is cleaved by ATG4 to be reused for a new round of lipidation.\n",
      "----------------------------------------------------------------\n",
      "\n",
      "\n",
      "\n",
      "\n",
      "Text 1 chunk: WT-CTRL animals (N = 126) compared with WT-HS animals (N = 110): P < 0.0001; sqst-1-CTRL animals (N = 128) (P = 0.3 to WT) compared with sqst-1-HS animals (N = 115): P = 0.004, by log-rank test. See Supplementary Table 2 for experimental details and additional repeats. c Neuronal PolyQ (rgef-1p::Q40::yfp) aggregates detected on day 4 of adulthood in WT and sqst-1(ok2892) (sqst-1) animals maintained under control conditions (20 °C, CTRL) or subjected to HS (1 h at 36 °C) on day 1 of adulthood (HS). Scale bar 20 μm. The number of neuronal PolyQ aggregates were quantiﬁed from three independent experiments in WT-CTRL, N = 43; WT-HS, N = 50; sqst-1-CTRL, N = 48, sqst-1-HS, N = 45 animals. Error bars indicate 95% CI. ns: P > 0.6, **P < 0.01, ****P < 0.0001, by two-way ANOVA with Tukey’s multiple comparisons test. Scale bar 20 and 10 μm for close-up. d, e FRAP measurements of neuronal PolyQ (rgef-1p::Q40::yfp) aggregates on day 8 of adulthood in WT (e) and sqst-1(ok2892) (sqst-1) (f) animals maintained under control conditions (20 °C, CTRL) or subjected to HS (1 h at 36 °C) on day 1 of adulthood (HS). The ﬂuorescence signal was bleached after 20 s and ﬂuorescence recovery was measured for 2 min. The average % of ﬂuorescence intensity was quantiﬁed from three independent experiments in WT-CTRL, N = 32; WT-HS, N = 30; sqst-1-CTRL, N = 32, sqst-1-HS, N = 31 animals. Error bars indicate 95% CI. **P < 0.05, **P < 0.01, ***P < 0.001, by two-way ANOVA with Sidak’s multiple comparisons test. P > 0.05 for all timepoints when comparing WT-CTRL and sqst-1-CTRL by two-way ANOVA with Sidak’s multiple comparisons test. Source data are provided in the Source Data ﬁle.\n",
      "\n",
      "Text 2 chunk: Eating oneself and uninvited guests: autophagy-related pathways in cell defense. Cell 120, 159–162 (2005). 156. Rikihisa, Y. Glycogen autophagosomes in polymorphonuclear leukocytes induced by rickettsiae. Anat. Rec. 208, 319–327 (1984). 157. Rich, K. A., Burkett, C. & Webster, P. Cytoplasmic bacteria can be targets for autophagy. Cell. Microbiol. 5, 455–468 (2003). 158. Nakagawa, I. et al. Autophagy defends cells against invading group A Streptococcus. Science 306, 1037–1040 (2004). 159. Gutierrez, M. G. et al. Autophagy is a defense mechanism inhibiting BCG and Mycobacterium tuberculosis survival in infected macrophages. Cell 119, 753–766 (2004). 160. Kimmey, J. M. & Stallings, C. L. Bacterial pathogens versus autophagy: implications for therapeutic interventions. Trends Mol. Med. 22, 1060–1076 (2016). 161. Upadhyay, S., Mittal, E. & Philips, J. A. Tuberculosis and the art of macrophage manipulation. Pathog. Dis. https://doi.org/10.1093/femspd/ fty037 (2018). 162. Watson, R. O. et al. The cytosolic sensor cGAS detects Mycobacterium tuberculosis DNA to induce type I interferons and activate autophagy. Cell Host Microbe 17, 811–819 (2015). 163. Franco, L. H. et al. The ubiquitin ligase Smurf1 functions in selective autophagy of Mycobacterium tuberculosis and anti-tuberculous host defense. Cell Host Microbe 21, 59–72 (2017). 164. Bah, A. & Vergne, I. Macrophage autophagy and bacterial infections. Front. Immunol. 8, 1483 (2017). 165. Jayaswal, S. et al. Identification of host-dependent survival factors for intracellular Mycobacterium tuberculosis through an siRNA screen. PLoS Pathog. 6, e1000839 (2010). 166. Kim, J. J. et al. Host cell autophagy activated by antibiotics is required for their effective antimycobacterial drug action. Cell Host Microbe 11, 457–468 (2012). 167. Watson, R. O., Manzanillo, P. S. & Cox, J. S. Extracellular M. tuberculosis DNA targets bacteria for autophagy by activating the host DNA-sensing pathway. Cell 150, 803–815 (2012). 168.\n",
      "----------------------------------------------------------------\n",
      "\n",
      "\n",
      "\n",
      "\n",
      "Text 1 chunk: WT-CTRL animals (N = 126) compared with WT-HS animals (N = 110): P < 0.0001; sqst-1-CTRL animals (N = 128) (P = 0.3 to WT) compared with sqst-1-HS animals (N = 115): P = 0.004, by log-rank test. See Supplementary Table 2 for experimental details and additional repeats. c Neuronal PolyQ (rgef-1p::Q40::yfp) aggregates detected on day 4 of adulthood in WT and sqst-1(ok2892) (sqst-1) animals maintained under control conditions (20 °C, CTRL) or subjected to HS (1 h at 36 °C) on day 1 of adulthood (HS). Scale bar 20 μm. The number of neuronal PolyQ aggregates were quantiﬁed from three independent experiments in WT-CTRL, N = 43; WT-HS, N = 50; sqst-1-CTRL, N = 48, sqst-1-HS, N = 45 animals. Error bars indicate 95% CI. ns: P > 0.6, **P < 0.01, ****P < 0.0001, by two-way ANOVA with Tukey’s multiple comparisons test. Scale bar 20 and 10 μm for close-up. d, e FRAP measurements of neuronal PolyQ (rgef-1p::Q40::yfp) aggregates on day 8 of adulthood in WT (e) and sqst-1(ok2892) (sqst-1) (f) animals maintained under control conditions (20 °C, CTRL) or subjected to HS (1 h at 36 °C) on day 1 of adulthood (HS). The ﬂuorescence signal was bleached after 20 s and ﬂuorescence recovery was measured for 2 min. The average % of ﬂuorescence intensity was quantiﬁed from three independent experiments in WT-CTRL, N = 32; WT-HS, N = 30; sqst-1-CTRL, N = 32, sqst-1-HS, N = 31 animals. Error bars indicate 95% CI. **P < 0.05, **P < 0.01, ***P < 0.001, by two-way ANOVA with Sidak’s multiple comparisons test. P > 0.05 for all timepoints when comparing WT-CTRL and sqst-1-CTRL by two-way ANOVA with Sidak’s multiple comparisons test. Source data are provided in the Source Data ﬁle.\n",
      "\n",
      "Text 2 chunk: RNA and DNA are targeted for lysosomal degradation via several pathways, including LC3-dependent autophagic degradation of stress granules (condensates of protein and RNA)120, p62- and NDP52-dependent autophagic degradation of retrotransposon RNA121, lysosomal membrane protein LAMP2C-dependent direct binding to RNA (also DNA122) for lysosomal degradation123 and a lysosomal puta- tive RNA/DNA transporter, SID1 transmembrane family, member 2 (SIDT2), that mediates direct uptake of RNA (and DNA124) for lyso- somal degradation125. At present, little is known about whether or how RNAutophagy (also known as RNAphagy) and DNAutophagy (also known as DNAphagy) affect health and aging. However, it is reasonable to suggest that nucleic acid turnover is essential for health, as accumulation of damaged or unnecessary DNA and RNA in the cytosol promotes inflammation, cancer and even acceler- ated aging68,126,127. DNA damage triggers autophagy and subtypes of autophagy that are considered to be cell survival responses128; in contrast, genetic or age-dependent impairment of DNA repair leads to genomic instability, cellular dysfunction, cell death and acceler- ated aging68. Exogenous DNA or RNA (for example, microbial) or endogenous nuclear or mitochondrial DNA in the cytoplasm may trigger autophagy. Nuclear DNA (including extranuclear chroma- tin) could be aberrantly released into the cytoplasm as a result of impaired nuclear envelope integrity, nuclear envelope blebbing or nuclear export processes129, while mitochondrial DNA could leak into the cytoplasm as a result of mitochondrial damage and inef- ficient elimination of damaged mitochondria via mitophagy126,127. The cyclic GMP-AMP (cGAS)–stimulator of interferon genes (STING), or RIG-I–MAVS, signaling axis detects these nucleic acid fragments to initiate an innate immune reaction, linking it to auto- immunity, inflammation, senescence and autophagy129.\n",
      "----------------------------------------------------------------\n",
      "\n",
      "\n",
      "\n",
      "\n",
      "Text 1 chunk: WT-CTRL animals (N = 126) compared with WT-HS animals (N = 110): P < 0.0001; sqst-1-CTRL animals (N = 128) (P = 0.3 to WT) compared with sqst-1-HS animals (N = 115): P = 0.004, by log-rank test. See Supplementary Table 2 for experimental details and additional repeats. c Neuronal PolyQ (rgef-1p::Q40::yfp) aggregates detected on day 4 of adulthood in WT and sqst-1(ok2892) (sqst-1) animals maintained under control conditions (20 °C, CTRL) or subjected to HS (1 h at 36 °C) on day 1 of adulthood (HS). Scale bar 20 μm. The number of neuronal PolyQ aggregates were quantiﬁed from three independent experiments in WT-CTRL, N = 43; WT-HS, N = 50; sqst-1-CTRL, N = 48, sqst-1-HS, N = 45 animals. Error bars indicate 95% CI. ns: P > 0.6, **P < 0.01, ****P < 0.0001, by two-way ANOVA with Tukey’s multiple comparisons test. Scale bar 20 and 10 μm for close-up. d, e FRAP measurements of neuronal PolyQ (rgef-1p::Q40::yfp) aggregates on day 8 of adulthood in WT (e) and sqst-1(ok2892) (sqst-1) (f) animals maintained under control conditions (20 °C, CTRL) or subjected to HS (1 h at 36 °C) on day 1 of adulthood (HS). The ﬂuorescence signal was bleached after 20 s and ﬂuorescence recovery was measured for 2 min. The average % of ﬂuorescence intensity was quantiﬁed from three independent experiments in WT-CTRL, N = 32; WT-HS, N = 30; sqst-1-CTRL, N = 32, sqst-1-HS, N = 31 animals. Error bars indicate 95% CI. **P < 0.05, **P < 0.01, ***P < 0.001, by two-way ANOVA with Sidak’s multiple comparisons test. P > 0.05 for all timepoints when comparing WT-CTRL and sqst-1-CTRL by two-way ANOVA with Sidak’s multiple comparisons test. Source data are provided in the Source Data ﬁle.\n",
      "\n",
      "Text 2 chunk: Glycophagy, therefore, is essential for cellular function and survival, suggesting that levels of glycophagy could determine organismal health and possibly longevity. Lipophagy. Intracellular storage and use of lipids is critical to main- tain cellular energy homeostasis. In response to starvation, triglyc- erides stored in lipid droplets are hydrolyzed by specific lipases into free fatty acids for energy metabolism. Lipid droplets can also undergo selective degradation by autophagy, termed lipophagy, as an alternative mechanism for regulating lipid homeostasis (Fig. 1a, pathway (4))100. Thus far, a specific receptor coupling lipid droplets to autophagosomes and trafficking to lysosomes has not yet been identified, although LC3-mediated engulfment of lipid droplets has been observed101. Moreover, CMA has been implicated in degrada- tion of the lipid droplet-associated proteins perilipin 2 (PLIN2) and perilipin 3 (PLIN3)102. Lysosomal acid lipases are involved in the degradation of lipid droplets; in particular, lipolysis is conducted primarily by adipose triglyceride lipase (ATGL) and hormone- sensitive lipase (HSL), and selective knockdown of ATGL and HSL in mice results in selective inhibition of lipid droplet degradation, while other autophagy processes (that is, degradation of proteins and organelles) serve as a compensatory mechanism to replenish the reduced availability of energy substrates103. An age-dependent decline in basal autophagy in the liver may underlie the accumu- lation of hepatic lipids, which in turn has been proposed to con- tribute to metabolic conditions as well as impairing autophagy, a vicious cycle promoting aging100. For example, age-dependent reduction in CMA is likely due to alterations in the lipid composi- tion of discrete microdomains at the lysosomal membrane, includ- ing altered dynamics and stability of the CMA receptor LAMP2A in the lysosome104.\n",
      "----------------------------------------------------------------\n",
      "\n",
      "\n",
      "\n",
      "\n",
      "Text 1 chunk: WT-CTRL, N = 126; WT-HS, N = 111; SQST-1 OE-CTRL, N = 116, SQST-1 OE-HS, N = 106 animals at 20 °C. P-values by log-rank test. e Lifespan analysis of WT (N2) and neuronal SQST-1 OE (rgef-1p::sqst-1::gfp (1)) animals subjected to hormetic HS on day 1 of adulthood. WT-CTRL, N = 126; WT-HS, N = 111; Neuronal SQST-1 OE-CTRL, N = 123, SQST-1 OE-HS, N = 120 animals at 20 °C. P-values by log-rank test. a–e See Supplementary Data 2 and Table 3 for experimental repeats. f Quantiﬁcation of neuronal PolyQ aggregates (rgef-1p::Q40::yfp) on day 5 of adulthood from three independent experiments in WT (N = 31 animals) and SQST-1 OE animals (sqst-1p::sqst-1 + rol-6) (N = 30 animals). Error bars indicate 95% CI. ns: P > 0.05 by t-test. g Fluorescence images and FRAP measurements of the aggregated (white dashed circles) and diffuse (yellow dashed circles) portion of neuronal PolyQ (rgef-1p::Q40::yfp) on day 8 of adulthood in WT and SQST-1-overexpressing animals sqst-1p::sqst-1 + rol-6 (SQST-1 OE) at 20 °C. Fluorescence signal bleached after 10 s (timepoint 2) and ﬂuorescence recovery was measured for 2 min. The average % of ﬂuorescence intensity was quantiﬁed from three independent experiments in WT, N = 32; SQST-1 OE, N = 31. Image numbers correspond to the indicated timepoints. Error bars indicate 95% CI. All measurements are P > 0.05 by two-way ANOVA with Sidak’s multiple comparisons test unless indicated otherwise *P < 0.05, **P < 0.01, ***P < 0.001, ****P < 0.0001. Outline of pharyngeal bulbs in image of head region. Scale bar: 20 and 10 μm for close-up. h Lifespan analysis of Neuronal Q40-expressing animals (rgef-1p::Q40::yfp) (N = 39 animals) and Neuronal Q40; SQST-1 OE (rgef-1p::Q40::yfp; sqst-1p:: sqst-1 + rol-6) (N = 79 animals) at 20 °C. P-value by log-rank test. See Supplementary Table 4 for experimental repeats. Source data are provided in the Source Data ﬁle.\n",
      "\n",
      "Text 2 chunk: Eating oneself and uninvited guests: autophagy-related pathways in cell defense. Cell 120, 159–162 (2005). 156. Rikihisa, Y. Glycogen autophagosomes in polymorphonuclear leukocytes induced by rickettsiae. Anat. Rec. 208, 319–327 (1984). 157. Rich, K. A., Burkett, C. & Webster, P. Cytoplasmic bacteria can be targets for autophagy. Cell. Microbiol. 5, 455–468 (2003). 158. Nakagawa, I. et al. Autophagy defends cells against invading group A Streptococcus. Science 306, 1037–1040 (2004). 159. Gutierrez, M. G. et al. Autophagy is a defense mechanism inhibiting BCG and Mycobacterium tuberculosis survival in infected macrophages. Cell 119, 753–766 (2004). 160. Kimmey, J. M. & Stallings, C. L. Bacterial pathogens versus autophagy: implications for therapeutic interventions. Trends Mol. Med. 22, 1060–1076 (2016). 161. Upadhyay, S., Mittal, E. & Philips, J. A. Tuberculosis and the art of macrophage manipulation. Pathog. Dis. https://doi.org/10.1093/femspd/ fty037 (2018). 162. Watson, R. O. et al. The cytosolic sensor cGAS detects Mycobacterium tuberculosis DNA to induce type I interferons and activate autophagy. Cell Host Microbe 17, 811–819 (2015). 163. Franco, L. H. et al. The ubiquitin ligase Smurf1 functions in selective autophagy of Mycobacterium tuberculosis and anti-tuberculous host defense. Cell Host Microbe 21, 59–72 (2017). 164. Bah, A. & Vergne, I. Macrophage autophagy and bacterial infections. Front. Immunol. 8, 1483 (2017). 165. Jayaswal, S. et al. Identification of host-dependent survival factors for intracellular Mycobacterium tuberculosis through an siRNA screen. PLoS Pathog. 6, e1000839 (2010). 166. Kim, J. J. et al. Host cell autophagy activated by antibiotics is required for their effective antimycobacterial drug action. Cell Host Microbe 11, 457–468 (2012). 167. Watson, R. O., Manzanillo, P. S. & Cox, J. S. Extracellular M. tuberculosis DNA targets bacteria for autophagy by activating the host DNA-sensing pathway. Cell 150, 803–815 (2012). 168.\n",
      "----------------------------------------------------------------\n",
      "\n",
      "\n",
      "\n",
      "\n",
      "Text 1 chunk: WT-CTRL, N = 126; WT-HS, N = 111; SQST-1 OE-CTRL, N = 116, SQST-1 OE-HS, N = 106 animals at 20 °C. P-values by log-rank test. e Lifespan analysis of WT (N2) and neuronal SQST-1 OE (rgef-1p::sqst-1::gfp (1)) animals subjected to hormetic HS on day 1 of adulthood. WT-CTRL, N = 126; WT-HS, N = 111; Neuronal SQST-1 OE-CTRL, N = 123, SQST-1 OE-HS, N = 120 animals at 20 °C. P-values by log-rank test. a–e See Supplementary Data 2 and Table 3 for experimental repeats. f Quantiﬁcation of neuronal PolyQ aggregates (rgef-1p::Q40::yfp) on day 5 of adulthood from three independent experiments in WT (N = 31 animals) and SQST-1 OE animals (sqst-1p::sqst-1 + rol-6) (N = 30 animals). Error bars indicate 95% CI. ns: P > 0.05 by t-test. g Fluorescence images and FRAP measurements of the aggregated (white dashed circles) and diffuse (yellow dashed circles) portion of neuronal PolyQ (rgef-1p::Q40::yfp) on day 8 of adulthood in WT and SQST-1-overexpressing animals sqst-1p::sqst-1 + rol-6 (SQST-1 OE) at 20 °C. Fluorescence signal bleached after 10 s (timepoint 2) and ﬂuorescence recovery was measured for 2 min. The average % of ﬂuorescence intensity was quantiﬁed from three independent experiments in WT, N = 32; SQST-1 OE, N = 31. Image numbers correspond to the indicated timepoints. Error bars indicate 95% CI. All measurements are P > 0.05 by two-way ANOVA with Sidak’s multiple comparisons test unless indicated otherwise *P < 0.05, **P < 0.01, ***P < 0.001, ****P < 0.0001. Outline of pharyngeal bulbs in image of head region. Scale bar: 20 and 10 μm for close-up. h Lifespan analysis of Neuronal Q40-expressing animals (rgef-1p::Q40::yfp) (N = 39 animals) and Neuronal Q40; SQST-1 OE (rgef-1p::Q40::yfp; sqst-1p:: sqst-1 + rol-6) (N = 79 animals) at 20 °C. P-value by log-rank test. See Supplementary Table 4 for experimental repeats. Source data are provided in the Source Data ﬁle.\n",
      "\n",
      "Text 2 chunk: Fusion of autophagosomes with lysosomes is mainly mediated by the assistance of RAB proteins, SNARE proteins and a HOPS complex. After fusion, the cargo is degraded by lysosomal hydrolases and the degradation products can be reused by the cell. LC3-II bound to the outer membrane is cleaved by ATG4 to be reused for a new round of lipidation.\n",
      "----------------------------------------------------------------\n",
      "\n",
      "\n",
      "\n",
      "\n",
      "Text 1 chunk: WT-CTRL animals (N = 126) compared with WT-HS animals (N = 110): P < 0.0001; sqst-1-CTRL animals (N = 128) (P = 0.3 to WT) compared with sqst-1-HS animals (N = 115): P = 0.004, by log-rank test. See Supplementary Table 2 for experimental details and additional repeats. c Neuronal PolyQ (rgef-1p::Q40::yfp) aggregates detected on day 4 of adulthood in WT and sqst-1(ok2892) (sqst-1) animals maintained under control conditions (20 °C, CTRL) or subjected to HS (1 h at 36 °C) on day 1 of adulthood (HS). Scale bar 20 μm. The number of neuronal PolyQ aggregates were quantiﬁed from three independent experiments in WT-CTRL, N = 43; WT-HS, N = 50; sqst-1-CTRL, N = 48, sqst-1-HS, N = 45 animals. Error bars indicate 95% CI. ns: P > 0.6, **P < 0.01, ****P < 0.0001, by two-way ANOVA with Tukey’s multiple comparisons test. Scale bar 20 and 10 μm for close-up. d, e FRAP measurements of neuronal PolyQ (rgef-1p::Q40::yfp) aggregates on day 8 of adulthood in WT (e) and sqst-1(ok2892) (sqst-1) (f) animals maintained under control conditions (20 °C, CTRL) or subjected to HS (1 h at 36 °C) on day 1 of adulthood (HS). The ﬂuorescence signal was bleached after 20 s and ﬂuorescence recovery was measured for 2 min. The average % of ﬂuorescence intensity was quantiﬁed from three independent experiments in WT-CTRL, N = 32; WT-HS, N = 30; sqst-1-CTRL, N = 32, sqst-1-HS, N = 31 animals. Error bars indicate 95% CI. **P < 0.05, **P < 0.01, ***P < 0.001, by two-way ANOVA with Sidak’s multiple comparisons test. P > 0.05 for all timepoints when comparing WT-CTRL and sqst-1-CTRL by two-way ANOVA with Sidak’s multiple comparisons test. Source data are provided in the Source Data ﬁle.\n",
      "\n",
      "Text 2 chunk: Xenophagy (from the Greek meaning ‘to eat foreign matter’) is the process by which autophagy targets pathogens154. Many pathogens are known to be degraded by autophagy, while others take over core autophagy components for their own ben- efit155 (Fig. 1a, pathway (9)). Indeed, several studies have dem- onstrated that autophagy can target bacteria such as Rickettsia conorii156, Listeria monocytogenes157, Streptococcus pyogenes158 and Mycobacterium tuberculosis159,160. Xenophagy may also protect the body against invasion by viruses and parasites. Upon their intake by inhalation, M. tuberculosis bacteria are cap- tured by alveolar macrophages. However, they have evolved the abil- ity to impair phagosome maturation (which under normal conditions would lead to phagocytosis) and end up hijacking macrophages161. Later on, using secretions from ESX-1 (6-kDa early secretory anti- genic target (ESAT-6) secretion system 1), the bacteria are able to break free from the phagosome and enter the cytosol. Here xenoph- agy comes into action. cGAS detects the bacterial DNA162, which results in ubiquitination of the invading bacteria by Smurf1 (or par- kin)163. NBR1 (or p62) attaches to these ubiquitin chains, resulting in the recruitment of LC3B and, ultimately, autophagic degradation164. Indeed, an absence of autophagic machinery components, in par- ticular, ULK1 (ref. 165), BECN1 (ref. 166), p62 (ref. 167), ATG7 (ref. 168) and TBK1 (ref. 167), may promote proliferation of the bacteria. The mechanism is similar for specific viruses. BECN1 and p62 in selec- tive autophagy of viral capsids can be protective against Sindbis virus169,170. However, other viruses, such as herpes simplex virus type 1, have evolved to inhibit autophagy by targeting BECN1 (ref. 171).\n",
      "----------------------------------------------------------------\n",
      "\n",
      "\n",
      "\n",
      "\n",
      "Text 1 chunk: were calculated and the data were analyzed by two-way ANOVA (GraphPad Prism). For methodology on paralysis measurements of temperature-sensitive mutants, see Supplementary Methods. Imaging of ﬂuorescent reporter strains. For images of higher magniﬁcation (including for colocalization of SQST-1::GFP and tdTOMATO::LGG-1/Atg8), animals were mounted on a 2% agarose pad in M9 medium containing 0.1% NaN3 and imaged on a Zeiss Imager Z1 including apotome.2 with a Hamamatsu orca ﬂash 4LT camera and Zen 2.3 software at ×1000 magniﬁcation. For colocalization, images were analyzed using the colocalization plugin Coloc2 in Fiji-ImageJ (National Institutes of Health). The correlation between the red and green ﬂuor- escence is given as intensity correlation quotient (ICQ) values68. For random or mixed patterns of ﬂuorescence intensity of the red and green channel this number will tend toward 0, for segregated localization of the red and green ﬂuorescence signal the ICQ score will tend toward −0.5, and for colocalization of the ﬂuorescent signals, the ICQ score will tend toward +0.5. Biochemical assays. For methodology on differential detergent extraction, western blot analysis, and proteasomal activity assays, see Supplementary Methods. ARTICLE NATURE COMMUNICATIONS | https://doi.org/10.1038/s41467-019-13540-4 10 NATURE COMMUNICATIONS | (2019) 10:5648 | https://doi.org/10.1038/s41467-019-13540-4 | www.nature.com/naturecommunications Quantitative RT-PCR. For methodology on quantitative RT-PCR, see Supple- mentary Methods. For sequences of primers used for quantitative RT-PCR, see Supplementary Table 6. Reporting summary. Further information on research design is available in the Nature Research Reporting Summary linked to this article.\n",
      "\n",
      "Text 2 chunk: Glycophagy, therefore, is essential for cellular function and survival, suggesting that levels of glycophagy could determine organismal health and possibly longevity. Lipophagy. Intracellular storage and use of lipids is critical to main- tain cellular energy homeostasis. In response to starvation, triglyc- erides stored in lipid droplets are hydrolyzed by specific lipases into free fatty acids for energy metabolism. Lipid droplets can also undergo selective degradation by autophagy, termed lipophagy, as an alternative mechanism for regulating lipid homeostasis (Fig. 1a, pathway (4))100. Thus far, a specific receptor coupling lipid droplets to autophagosomes and trafficking to lysosomes has not yet been identified, although LC3-mediated engulfment of lipid droplets has been observed101. Moreover, CMA has been implicated in degrada- tion of the lipid droplet-associated proteins perilipin 2 (PLIN2) and perilipin 3 (PLIN3)102. Lysosomal acid lipases are involved in the degradation of lipid droplets; in particular, lipolysis is conducted primarily by adipose triglyceride lipase (ATGL) and hormone- sensitive lipase (HSL), and selective knockdown of ATGL and HSL in mice results in selective inhibition of lipid droplet degradation, while other autophagy processes (that is, degradation of proteins and organelles) serve as a compensatory mechanism to replenish the reduced availability of energy substrates103. An age-dependent decline in basal autophagy in the liver may underlie the accumu- lation of hepatic lipids, which in turn has been proposed to con- tribute to metabolic conditions as well as impairing autophagy, a vicious cycle promoting aging100. For example, age-dependent reduction in CMA is likely due to alterations in the lipid composi- tion of discrete microdomains at the lysosomal membrane, includ- ing altered dynamics and stability of the CMA receptor LAMP2A in the lysosome104.\n",
      "----------------------------------------------------------------\n",
      "\n",
      "\n",
      "\n",
      "\n",
      "Text 1 chunk: WT-CTRL animals (N = 126) compared with WT-HS animals (N = 110): P < 0.0001; sqst-1-CTRL animals (N = 128) (P = 0.3 to WT) compared with sqst-1-HS animals (N = 115): P = 0.004, by log-rank test. See Supplementary Table 2 for experimental details and additional repeats. c Neuronal PolyQ (rgef-1p::Q40::yfp) aggregates detected on day 4 of adulthood in WT and sqst-1(ok2892) (sqst-1) animals maintained under control conditions (20 °C, CTRL) or subjected to HS (1 h at 36 °C) on day 1 of adulthood (HS). Scale bar 20 μm. The number of neuronal PolyQ aggregates were quantiﬁed from three independent experiments in WT-CTRL, N = 43; WT-HS, N = 50; sqst-1-CTRL, N = 48, sqst-1-HS, N = 45 animals. Error bars indicate 95% CI. ns: P > 0.6, **P < 0.01, ****P < 0.0001, by two-way ANOVA with Tukey’s multiple comparisons test. Scale bar 20 and 10 μm for close-up. d, e FRAP measurements of neuronal PolyQ (rgef-1p::Q40::yfp) aggregates on day 8 of adulthood in WT (e) and sqst-1(ok2892) (sqst-1) (f) animals maintained under control conditions (20 °C, CTRL) or subjected to HS (1 h at 36 °C) on day 1 of adulthood (HS). The ﬂuorescence signal was bleached after 20 s and ﬂuorescence recovery was measured for 2 min. The average % of ﬂuorescence intensity was quantiﬁed from three independent experiments in WT-CTRL, N = 32; WT-HS, N = 30; sqst-1-CTRL, N = 32, sqst-1-HS, N = 31 animals. Error bars indicate 95% CI. **P < 0.05, **P < 0.01, ***P < 0.001, by two-way ANOVA with Sidak’s multiple comparisons test. P > 0.05 for all timepoints when comparing WT-CTRL and sqst-1-CTRL by two-way ANOVA with Sidak’s multiple comparisons test. Source data are provided in the Source Data ﬁle.\n",
      "\n",
      "Text 2 chunk: In particular, the balance between mTOR and AMPK activa- tion has a central role in immune cell maintenance and function. Upon mTOR activation, autophagic flux is reduced, accompanied by increased cellular glycolytic activity, giving rise to a proliferative and pro-inflammatory phenotype in macrophages. In contrast, AMPK activation drives autophagy and promotes the OXPHOS-dependent function of non- or anti-inflammatory macrophages188. Autophagy also regulates the NOD-, LRR- and pyrin domain- containing protein 3 (NLRP3) inflammasome, which is an intra- cellular protein complex that activates caspase-1, which in turn catalyzes the cleavage, activation and subsequent release of pro- inflammatory cytokines (for example, interleukin (IL)-1β), which can induce neurodegeneration186,189. The NLRP3 inflammasome has been identified as a critical component of the innate immune response (that is, the response to microbial motifs, endogenous danger signals and environmental irritants) and orchestrates host immune homeostasis189. Defective autophagy, for example, in mod- els of selective knockout or knockdown of genes encoding compo- nents of the autophagic core machinery (for example, ATG5, ATG7, BECN1 and MAP1LC3B), results in unrestricted inflammasome activation and consequent inflammation. Likewise, promotion of autophagy through starvation or with pharmacological agents (for example, rapamycin) inhibits the inflammasome190. In addition, evidence stemming from an APP/PS1 mouse model of AD dem- onstrated mitophagy-induced inhibition of the NLRP3 inflamma- some, resulting in reduced neuroinflammation138. These findings imply an important role for autophagy in the regulation of inflam- mation and, in turn, aging and neurodegenerative diseases. Anti-aging effects of autophagy modulators The mounting evidence that an imbalance of autophagy is an impor- tant age-associated characteristic has driven extensive research into the development of compounds that can promote autophagy1.\n",
      "----------------------------------------------------------------\n",
      "\n",
      "\n"
     ]
    }
   ],
   "source": [
    "# Print the text chunks for the most different embeddings\n",
    "print(\"\\n10 most different text chunks:\")\n",
    "for i in range(10):\n",
    "    index_1, index_2 = most_different_indices[0][i], most_different_indices[1][i]\n",
    "    print(f\"\\nText 1 chunk: {text_1_chunks[index_1 + text_vecs_offset]}\")\n",
    "    print(f\"\\nText 2 chunk: {text_2_chunks[index_2 + text_vecs_offset]}\")\n",
    "    print(\"-\"*64 + \"\\n\\n\\n\")"
   ],
   "metadata": {
    "collapsed": false,
    "ExecuteTime": {
     "end_time": "2024-03-13T16:14:01.712023200Z",
     "start_time": "2024-03-13T16:14:01.571904700Z"
    }
   },
   "id": "7217f30a532fc7a1",
   "execution_count": 18
  },
  {
   "cell_type": "markdown",
   "source": [
    "### Alternative Similarity Matching using Threshold"
   ],
   "metadata": {
    "collapsed": false
   },
   "id": "7b42c2bb0218fed9"
  },
  {
   "cell_type": "code",
   "outputs": [
    {
     "name": "stdout",
     "output_type": "stream",
     "text": [
      "Embeddings with similarity above 0.8 (in descending order of similarity):\n",
      "Index pair: (38, 48), Similarity score: 0.8527\n",
      "Index pair: (38, 46), Similarity score: 0.8487\n",
      "Index pair: (34, 45), Similarity score: 0.8380\n",
      "Index pair: (38, 47), Similarity score: 0.8371\n",
      "Index pair: (38, 62), Similarity score: 0.8338\n",
      "Index pair: (34, 49), Similarity score: 0.8319\n",
      "Index pair: (37, 48), Similarity score: 0.8310\n",
      "Index pair: (36, 47), Similarity score: 0.8282\n",
      "Index pair: (36, 48), Similarity score: 0.8268\n",
      "Index pair: (36, 46), Similarity score: 0.8259\n",
      "Index pair: (38, 45), Similarity score: 0.8246\n",
      "Index pair: (36, 62), Similarity score: 0.8220\n",
      "Index pair: (38, 61), Similarity score: 0.8188\n",
      "Index pair: (36, 61), Similarity score: 0.8178\n",
      "Index pair: (38, 49), Similarity score: 0.8156\n",
      "Index pair: (38, 60), Similarity score: 0.8135\n",
      "Index pair: (36, 45), Similarity score: 0.8118\n",
      "Index pair: (38, 19), Similarity score: 0.8102\n",
      "Index pair: (36, 60), Similarity score: 0.8053\n",
      "Index pair: (38, 17), Similarity score: 0.8027\n",
      "Index pair: (38, 8), Similarity score: 0.8025\n",
      "Index pair: (38, 50), Similarity score: 0.8002\n",
      "Index pair: (37, 49), Similarity score: 0.8001\n"
     ]
    }
   ],
   "source": [
    "# Assuming similarity_matrix is defined and similarity_threshold is set to 0.80\n",
    "similarity_threshold = 0.80\n",
    "\n",
    "# Find the indices of the embeddings with similarity scores above the threshold\n",
    "similar_indices = np.where(similarity_matrix > similarity_threshold)\n",
    "similar_scores = similarity_matrix[similar_indices]\n",
    "\n",
    "# Sort the similar indices based on similarity scores in descending order\n",
    "sorted_scores_indices = np.argsort(-similar_scores)\n",
    "sorted_similar_indices = (similar_indices[0][sorted_scores_indices], similar_indices[1][sorted_scores_indices])\n",
    "sorted_similar_scores = similar_scores[sorted_scores_indices]\n",
    "\n",
    "# Print the index pairs and similarity scores for embeddings above the threshold in descending order\n",
    "print(f\"Embeddings with similarity above {similarity_threshold} (in descending order of similarity):\")\n",
    "for i in range(len(sorted_similar_scores)):\n",
    "    index_1, index_2 = sorted_similar_indices[0][i], sorted_similar_indices[1][i]\n",
    "    similarity_score = sorted_similar_scores[i]\n",
    "    print(f\"Index pair: ({index_1 + text_vecs_offset}, {index_2 + text_vecs_offset}), Similarity score: {similarity_score:.4f}\")"
   ],
   "metadata": {
    "collapsed": false,
    "ExecuteTime": {
     "end_time": "2024-03-13T16:14:01.716029500Z",
     "start_time": "2024-03-13T16:14:01.591980800Z"
    }
   },
   "id": "7488e9f5ae658ee8",
   "execution_count": 19
  },
  {
   "cell_type": "code",
   "outputs": [
    {
     "name": "stdout",
     "output_type": "stream",
     "text": [
      "[34, 36, 37, 38]\n",
      "[8, 17, 19, 45, 46, 47, 48, 49, 50, 60, 61, 62]\n"
     ]
    }
   ],
   "source": [
    "text_1_similar_chunk_indices  = list(sorted_similar_indices[0] + text_vecs_offset)\n",
    "text_2_similar_chunk_indices  = list(sorted_similar_indices[1] + text_vecs_offset)\n",
    "\n",
    "print(sorted(set(text_1_similar_chunk_indices)))\n",
    "print(sorted(set(text_2_similar_chunk_indices)))"
   ],
   "metadata": {
    "collapsed": false,
    "ExecuteTime": {
     "end_time": "2024-03-13T16:14:01.786580300Z",
     "start_time": "2024-03-13T16:14:01.603622700Z"
    }
   },
   "id": "72b4d8b2c352e0e3",
   "execution_count": 20
  },
  {
   "cell_type": "code",
   "outputs": [],
   "source": [
    "def combine_close_chunks(indices: list[int], max_gap: int = 2, buffer: int = 0) -> list[tuple[int, int]]:\n",
    "    \"\"\"\n",
    "    Combine close chunks based on a maximum allowed gap.\n",
    "    \n",
    "    :param indices: List of indices to combine.\n",
    "    :param max_gap: Maximum allowed gap between consecutive indices to be considered close.\n",
    "    :param buffer: Buffer to add before/after the combined indices.\n",
    "    :return: List of tuples, each containing a group of close indices.\n",
    "    \"\"\"\n",
    "    if not indices:\n",
    "        return []\n",
    "\n",
    "    # Sort the indices and remove duplicates\n",
    "    sorted_indices = sorted(set(indices))\n",
    "    combined = [sorted_indices[0]]\n",
    "    result = []\n",
    "\n",
    "    for i in range(1, len(sorted_indices)):\n",
    "        if sorted_indices[i] - combined[-1] <= max_gap:\n",
    "            # Fill in missing indices between the current and the last index\n",
    "            combined.extend(range(combined[-1] + 1, sorted_indices[i]))\n",
    "            combined.append(sorted_indices[i])\n",
    "        else:\n",
    "            result.append(tuple(combined))\n",
    "            combined = [sorted_indices[i]]\n",
    "\n",
    "    result.append(tuple(combined))\n",
    "\n",
    "    return result"
   ],
   "metadata": {
    "collapsed": false,
    "ExecuteTime": {
     "end_time": "2024-03-13T16:14:02.057233900Z",
     "start_time": "2024-03-13T16:14:01.622359400Z"
    }
   },
   "id": "f6da6e5fd2bdccfb",
   "execution_count": 21
  },
  {
   "cell_type": "code",
   "outputs": [
    {
     "name": "stdout",
     "output_type": "stream",
     "text": [
      "[(34, 35, 36, 37, 38)]\n",
      "[(8,), (17, 18, 19), (45, 46, 47, 48, 49, 50), (60, 61, 62)]\n"
     ]
    }
   ],
   "source": [
    "# Combine similar chunks with a maximum gap of 1\n",
    "text_1_similar_chunks = combine_close_chunks(text_1_similar_chunk_indices, 3)\n",
    "text_2_similar_chunks = combine_close_chunks(text_2_similar_chunk_indices, 3)\n",
    "\n",
    "print(text_1_similar_chunks)\n",
    "print(text_2_similar_chunks)"
   ],
   "metadata": {
    "collapsed": false,
    "ExecuteTime": {
     "end_time": "2024-03-13T16:14:02.061242600Z",
     "start_time": "2024-03-13T16:14:01.634815500Z"
    }
   },
   "id": "b9c0cd5b8cd47c8f",
   "execution_count": 22
  },
  {
   "cell_type": "code",
   "outputs": [
    {
     "name": "stdout",
     "output_type": "stream",
     "text": [
      "\n",
      "Combined similar chunks:\n",
      "\n",
      "Text 1 chunk: Data availability The authors declare that all data supporting the ﬁndings of this study are available within this article, its Supplementary Information ﬁles, the peer-review ﬁle, or are available from the corresponding author upon reasonable request. Received: 22 November 2018; Accepted: 13 November 2019; References 1. Kroemer, G., Marino, G. & Levine, B. Autophagy and the integrated stress response. Mol. Cell 40, 280–293 (2010). 2. Kumsta, C., Chang, J. T., Schmalz, J. & Hansen, M. Hormetic heat stress and HSF-1 induce autophagy to improve survival and proteostasis in C. elegans. Nat. Commun. 8, 14337 (2017). 3. Hansen, M., Rubinsztein, D. C. & Walker, D. W. Autophagy as a promoter of longevity: insights from model organisms. Nat. Rev. Mol. Cell Biol. 19, 579–593 (2018). 4. Gatica, D., Lahiri, V. & Klionsky, D. J. Cargo recognition and degradation by selective autophagy. Nat. Cell Biol. 20, 233–242 (2018). 5. Pankiv, S. et al. p62/SQSTM1 binds directly to Atg8/LC3 to facilitate degradation of ubiquitinated protein aggregates by autophagy. J. Biol. Chem. 282, 24131–24145 (2007). 6. Ichimura, Y. et al. Structural basis for sorting mechanism of p62 in selective autophagy. J. Biol. Chem. 283, 22847–22857 (2008). 7. Bjorkoy, G. et al. p62/SQSTM1 forms protein aggregates degraded by autophagy and has a protective effect on huntingtin-induced cell death. J. Cell Biol. 171, 603–614 (2005). 8. Korolchuk, V. I., Menzies, F. M. & Rubinsztein, D. C. Mechanisms of cross- talk between the ubiquitin-proteasome and autophagy-lysosome systems. FEBS Lett. 584, 1393–1398 (2010). 9. Liu, W. J. et al. p62 links the autophagy pathway and the ubiqutin-proteasome system upon ubiquitinated protein degradation. Cell Mol. Biol. Lett. 21, 29 (2016). 10. Caccamo, A., Ferreira, E., Branca, C. & Oddo, S. p62 improves AD-like pathology by increasing autophagy. Mol. Psychiatry 22, 865–873 (2017). 11. Doi, H. et al. - Integrating the stress response: lessons for neurodegenerative diseases from C. elegans. Trends Cell Biol. 19, 52–61 (2009). 47. Ben-Zvi, A., Miller, E. A. & Morimoto, R. I. Collapse of proteostasis represents an early molecular event in Caenorhabditis elegans aging. Proc. Natl Acad. Sci. USA 106, 14914–14919 (2009). 48. Vilchez, D. et al. RPN-6 determines C. elegans longevity under proteotoxic stress conditions. Nature 489, 263–268 (2012). 49. Sun, T., Wang, X., Lu, Q., Ren, H. & Zhang, H. CUP-5, the C. elegans ortholog of the mammalian lysosomal channel protein MLN1/TRPML1, is required for proteolytic degradation in autolysosomes. Autophagy 7, 1308–1315 (2011). 50. Wu, Y. et al. PI3P phosphatase activity is required for autophagosome maturation and autolysosome formation. EMBO Rep. 15, 973–981 (2014). 51. Toth, M. L. et al. Longevity pathways converge on autophagy genes to regulate life span in Caenorhabditis elegans. Autophagy 4, 330–338 (2008). 52. Wu, F. et al. Structural basis of the differential function of the two C. elegans Atg8 homologs, LGG-1 and LGG-2, in autophagy. Mol. Cell 60, 914–929 (2015). NATURE COMMUNICATIONS | https://doi.org/10.1038/s41467-019-13540-4 ARTICLE NATURE COMMUNICATIONS | (2019) 10:5648 | https://doi.org/10.1038/s41467-019-13540-4 | www.nature.com/naturecommunications 11 53. Chang, J. T., Kumsta, C., Hellman, A. B., Adams, L. M. & Hansen, M. Spatiotemporal regulation of autophagy during Caenorhabditis elegans aging. Elife 6, https://doi.org/10.7554/eLife.18459 (2017). 54. Ventura, N. et al. p53/CEP-1 increases or decreases lifespan, depending on level of mitochondrial bioenergetic stress. Aging Cell 8, 380–393 (2009). 55. Zaffagnini, G. & Martens, S. Mechanisms of selective autophagy. J. Mol. Biol. 428, 1714–1724 (2016). 56. Itakura, E. & Mizushima, N. p62 Targeting to the autophagosome formation site requires self-oligomerization but not LC3 binding. J. Cell Biol. 192, 17–27 (2011). 57. Fujita, N. et al.\n",
      "----------------------------------------------------------------\n",
      "\n",
      "\n",
      "\n",
      "================================================================\n",
      "\n",
      "Text 2 chunk: c, CMA (15) also involves targeting of proteins containing a KFERQ pentapeptide-related motif by HSC70 and other co-chaperones such as HSP40. The substrate is then imported into the lysosome through the LAMP2A receptor for further degradation. The LAMP2A receptor is modulated by the glial fibrillary acidic protein (GFAP). Finally, in a CMA-like manner, DNAutophagy/RNAutophagy (16) can occur: nucleic acids (DNA or RNA) bind to the LAMP2C receptor (orange), which also binds to lysosomes. This process allows nucleic acids to be taken up by the lysosome. It has been proposed that a transporter called SIDT2 (green) might have a role in direct uptake of nucleic acids by the lysosome. NATuRE AGING | VOL 1 | AUGUST 2021 | 634–650 | www.nature.com/nataging 635 Review ARticle NATURe AgINg ATG8), unc-51 (ortholog of ATG1), bec-1, atg-7, lgg-3 (also known as atg-12) and atg-18), Drosophila (Atg3 and Atg8a) and mice (Atg5, Atg7 and Becn1) shorten lifespan and healthspan1,14,30,39. In line with these observations, systemic genetic knockout of autophagy com- ponents (Becn1, Atg5, Atg9 and Atg13) is lethal in mice, highlight- ing the importance of autophagy in development40. Furthermore, knockdown of genes encoding transcription factors that regulate autophagy, such as TFEB (ortholog in C. elegans, hlh-30) and FOXO (encoding forkhead box O; ortholog in C. elegans, daf-16) shortened lifespan in both wild-type worms and long-lived daf-2 (insulin/ insulin-like growth factor-1 (IGF-1) receptor) mutants41. In contrast, studies in long-lived mutant animals have shown that increased autophagy is associated with delayed aging. In par- ticular, the extended lifespan of C. elegans daf-2 loss-of-function mutants is dependent on autophagic genes, such as bec-1, lgg-1, atg- 7 and atg-12 (refs. 1,14,42). - c, CMA (15) also involves targeting of proteins containing a KFERQ pentapeptide-related motif by HSC70 and other co-chaperones such as HSP40. The substrate is then imported into the lysosome through the LAMP2A receptor for further degradation. The LAMP2A receptor is modulated by the glial fibrillary acidic protein (GFAP). Finally, in a CMA-like manner, DNAutophagy/RNAutophagy (16) can occur: nucleic acids (DNA or RNA) bind to the LAMP2C receptor (orange), which also binds to lysosomes. This process allows nucleic acids to be taken up by the lysosome. It has been proposed that a transporter called SIDT2 (green) might have a role in direct uptake of nucleic acids by the lysosome. NATuRE AGING | VOL 1 | AUGUST 2021 | 634–650 | www.nature.com/nataging 635 Review ARticle NATURe AgINg ATG8), unc-51 (ortholog of ATG1), bec-1, atg-7, lgg-3 (also known as atg-12) and atg-18), Drosophila (Atg3 and Atg8a) and mice (Atg5, Atg7 and Becn1) shorten lifespan and healthspan1,14,30,39. In line with these observations, systemic genetic knockout of autophagy com- ponents (Becn1, Atg5, Atg9 and Atg13) is lethal in mice, highlight- ing the importance of autophagy in development40. Furthermore, knockdown of genes encoding transcription factors that regulate autophagy, such as TFEB (ortholog in C. elegans, hlh-30) and FOXO (encoding forkhead box O; ortholog in C. elegans, daf-16) shortened lifespan in both wild-type worms and long-lived daf-2 (insulin/ insulin-like growth factor-1 (IGF-1) receptor) mutants41. In contrast, studies in long-lived mutant animals have shown that increased autophagy is associated with delayed aging. In par- ticular, the extended lifespan of C. elegans daf-2 loss-of-function mutants is dependent on autophagic genes, such as bec-1, lgg-1, atg- 7 and atg-12 (refs. 1,14,42).\n",
      "----------------------------------------------------------------\n",
      "\n",
      "\n",
      "\n",
      "\n",
      "Text 2 chunk: ; W: HLH-30; F: MITF; M: TFEB; H: TFEB Transcription factor for genes involved in autophagy, the lysosome and phagocytosis43 W: Strains with overexpression have increased lifespan43 Y: VPS34; W: VPS-34; F: Pi3K59F; M: VPS34; H: PIK3C3 PI3K required for autophagosome formation240 W: Essential for longevity when using multiple approaches, such as urolithin A treatment and dietary restrictions61,207 Y, yeast; W, worms; F, flies; M, mice; H, humans. NATuRE AGING | VOL 1 | AUGUST 2021 | 634–650 | www.nature.com/nataging 638 Review ARticle NATURe AgINg VPS-34–BEC-1–EPG-8 autophagic nucleation complex in aged post-reproductive worms extended lifespan and improved neuro- nal integrity29. However, detailed data on knockdown efficiency in aged worms, as well as an understanding of the remaining levels of neuronal autophagy, are necessary to ensure accurate in-depth data interpretation. Collectively, these observations suggest that mainte- nance of functional autophagy is essential for healthy cellular and organismal aging and that dysregulation of autophagy in either direction, whether insufficient or excessive, contributes to cellular deficits and functional organismal decline. A summary of autophagy-related genes linked to longevity and disease is provided in Table 1 and Supplementary Table 1. In addi- tion, several interventions known to promote lifespan, including dietary restriction and treatment with pharmacological agents, such as rapamycin, spermidine and NAD+ precursors, require intact autophagic machinery. In totality, these findings reinforce the notion that autophagy stimulation is necessary and sufficient to sustain organismal homeostasis and extend longevity in mul- tiple model organisms (discussed in detail below)1. An overview of autophagy inducers linked to enhanced longevity and improved health is presented in Table 2. - In C. elegans, loss-of-function mutations in bec-1 or atg-18 or RNA interference (RNAi) against bec-1, atg-9 or lgg-1 increases susceptibility to protein aggregation, accelerates the onset of age- related paralysis and shortens lifespan39,70. Similarly, mutations in the core autophagy components Atg8a or Atg7 in Drosophila increase the levels of insoluble protein aggregates and reduce lon- gevity30,71. Finally, knockout of Atg5 or Atg7 in mouse neurons leads to the appearance of cytoplasmic inclusion bodies in the brain and early-onset neurodegeneration72–74, while knockout of Lamp2 (the primary receptor for CMA) in the liver results in altered proteosta- sis and hepatic dysfunction with age75. Conversely, enhanced proteostasis and extended lifespan in C. elegans occur when the lysosome–autophagy transcription fac- tor HLH-30 or the selective autophagy receptor p62/SQSTM-1 is upregulated. Likewise, in Drosophila, overexpression of Ref(2)P (p62 ortholog) or the autophagy activator FOXO reduces protein aggre- gation in various tissues and extends lifespan43,76–79. Pharmacological (for example, via clonidine, rilmenidine or rapamycin) or genetic (for example, atg5) upregulation of autophagy in zebrafish harbor- ing the rare p.Ala152Thr variant of tau ameliorates tau pathology80. Increased autophagy is also associated with enhanced clearance of protein aggregates in mammals, as systemic overexpression of Atg5 or Becn1 genes with mutations that disrupt BECN1–BCL-2 bind- ing improves proteostasis and promotes longevity in mice44,81, while overexpression of the selective autophagy mediator BAG3 sup- presses tau accumulation in neurons82. As a complement to the genetic modulation of autophagy, treatment of Drosophila with the mTOR inhibitor rapamycin sup- presses age-related protein aggregation and extends lifespan in an autophagy-dependent manner83.\n",
      "----------------------------------------------------------------\n",
      "\n",
      "\n",
      "\n",
      "\n",
      "Text 2 chunk: Hansen, M., Rubinsztein, D. C. & Walker, D. W. Autophagy as a promoter of longevity: insights from model organisms. Nat. Rev. Mol. Cell Biol. 19, 579–593 (2018). 15. Bjorkoy, G. et al. p62/SQSTM1 forms protein aggregates degraded by autophagy and has a protective effect on huntingtin-induced cell death. J. Cell Biol. 171, 603–614 (2005). 16. Pankiv, S. et al. p62/SQSTM1 binds directly to Atg8/LC3 to facilitate degradation of ubiquitinated protein aggregates by autophagy. J. Biol. Chem. 282, 24131–24145 (2007). 17. Kirkin, V. History of the selective autophagy research: how did it begin and where does it stand today? J. Mol. Biol. 432, 3–27 (2020). 18. Gatica, D., Lahiri, V. & Klionsky, D. J. Cargo recognition and degradation by selective autophagy. Nat. Cell Biol. 20, 233–242 (2018). 19. Menzies, F. M., Fleming, A. & Rubinsztein, D. C. Compromised autophagy and neurodegenerative diseases. Nat. Rev. Neurosci. 16, 345–357 (2015). 20. Kim, S. et al. Fisetin stimulates autophagic degradation of phosphorylated tau via the activation of TFEB and Nrf2 transcription factors. Sci. Rep. 6, 24933 (2016). 21. Medina, D. L. et al. Lysosomal calcium signalling regulates autophagy through calcineurin and TFEB. Nat. Cell Biol. 17, 288–299 (2015). 22. Settembre, C. et al. A lysosome-to-nucleus signalling mechanism senses and regulates the lysosome via mTOR and TFEB. EMBO J. 31, 1095–1108 (2012). 23. El-Houjeiri, L. et al. The transcription factors TFEB and TFE3 link the FLCN–AMPK signaling axis to innate immune response and pathogen resistance. Cell Rep. 26, 3613–3628 (2019). 24. Cuervo, A. M. & Dice, J. F. How do intracellular proteolytic systems change with age? Front. Biosci. 3, D25–D43 (1998). 25. Sun, Y. et al. Lysosome activity is modulated by multiple longevity pathways and is important for lifespan extension in C. elegans. eLife https://doi. org/10.7554/eLife.55745 (2020). 26. Sarkis, G. J., Ashcom, J. D., Hawdon, J. M. & Jacobson, L. A. - & Walker, D. W. Upregulation of the autophagy adaptor p62/SQSTM1 prolongs health and lifespan in middle-aged Drosophila. Cell Rep. 28, 1029–1040 (2019). 78. Demontis, F. & Perrimon, N. FOXO/4E-BP signaling in Drosophila muscles regulates organism-wide proteostasis during aging. Cell 143, 813–825 (2010). 79. Nezis, I. P. et al. Ref(2)P, the Drosophila melanogaster homologue of mammalian p62, is required for the formation of protein aggregates in adult brain. J. Cell Biol. 180, 1065–1071 (2008). 80. Lopez, A. et al. A152T tau allele causes neurodegeneration that can be ameliorated in a zebrafish model by autophagy induction. Brain 140, 1128–1146 (2017). 81. Rocchi, A. et al. A Becn1 mutation mediates hyperactive autophagic sequestration of amyloid oligomers and improved cognition in Alzheimer’s disease. PLoS Genet. 13, e1006962 (2017). 82. Fu, H. et al. A tau homeostasis signature is linked with the cellular and regional vulnerability of excitatory neurons to tau pathology. Nat. Neurosci. 22, 47–56 (2019). 83. Schinaman, J. M., Rana, A., Ja, W. W., Clark, R. I. & Walker, D. W. Rapamycin modulates tissue aging and lifespan independently of the gut microbiota in Drosophila. Sci. Rep. 9, 7824 (2019). 84. Berger, Z. et al. Rapamycin alleviates toxicity of different aggregate-prone proteins. Hum. Mol. Genet. 15, 433–442 (2006). 85. Audesse, A. J. et al. FOXO3 directly regulates an autophagy network to functionally regulate proteostasis in adult neural stem cells. PLoS Genet. 15, e1008097 (2019). 86. Leeman, D. S. et al. Lysosome activation clears aggregates and enhances quiescent neural stem cell activation during aging. Science 359, 1277–1283 (2018). 87. Garcia-Prat, L. et al. Autophagy maintains stemness by preventing senescence. Nature 529, 37–42 (2016). 88. Kuma, A. et al. The role of autophagy during the early neonatal starvation period. Nature 432, 1032–1036 (2004). 89. Yang, Z., Huang, J., Geng, J., Nair, U.\n",
      "----------------------------------------------------------------\n",
      "\n",
      "\n",
      "\n",
      "\n",
      "Text 2 chunk: 27, 667–676 (2018). 207. Ryu, D. et al. Urolithin A induces mitophagy and prolongs lifespan in C. elegans and increases muscle function in rodents. Nat. Med. 22, 879–888 (2016). 208. Andreux, P. A. et al. The mitophagy activator urolithin A is safe and induces a molecular signature of improved mitochondrial and cellular health in humans. Nat. Metab. 1, 593–603 (2019). 209. Escobar, K. A., Cole, N. H., Mermier, C. M. & VanDusseldorp, T. A. Autophagy and aging: maintaining the proteome through exercise and caloric restriction. Aging Cell 18, e12876 (2019). 210. de Cabo, R. & Mattson, M. P. Effects of intermittent fasting on health, aging, and disease. N. Engl. J. Med. 381, 2541–2551 (2019). 211. Alexander-Floyd, J. et al. Unexpected cell type-dependent effects of autophagy on polyglutamine aggregation revealed by natural genetic variation in C. elegans. BMC Biol. 18, 18 (2020). 212. Bjedov, I. et al. Fine-tuning autophagy maximises lifespan and is associated with changes in mitochondrial gene expression in Drosophila. PLoS Genet. 16, e1009083 (2020). 213. Mulcahy Levy, J. M. & Thorburn, A. Autophagy in cancer: moving from understanding mechanism to improving therapy responses in patients. Cell Death Differ. 27, 843–857 (2020). 214. Park, C. & Cuervo, A. M. Selective autophagy: talking with the UPS. Cell Biochem. Biophys. 67, 3–13 (2013). 215. Yang, S. et al. Pancreatic cancers require autophagy for tumor growth. Genes Dev. 25, 717–729 (2011). 216. Piffoux, M., Eriau, E. & Cassier, P. A. Autophagy as a therapeutic target in pancreatic cancer. Br. J. Cancer 124, 333–344 (2021). 217. Matsuura, A., Tsukada, M., Wada, Y. & Ohsumi, Y. Apg1p, a novel protein kinase required for the autophagic process in Saccharomyces cerevisiae. Gene 192, 245–250 (1997). 218. Alvers, A. L. et al. Autophagy is required for extension of yeast chronological life span by rapamycin. Autophagy 5, 847–849 (2009). 219. Rana, A. et al. - A life-span extending form of autophagy employs the vacuole–vacuole fusion machinery. Autophagy 4, 874–886 (2008). 233. Rieter, E. et al. Atg18 function in autophagy is regulated by specific sites within its β-propeller. J. Cell Sci. 126, 593–604 (2013). 234. McQuary, P. R. et al. C. elegans S6K mutants require a creatine-kinase-like effector for lifespan extension. Cell Rep. 14, 2059–2067 (2016). 235. Narendra, D., Tanaka, A., Suen, D. F. & Youle, R. J. Parkin is recruited selectively to impaired mitochondria and promotes their autophagy. J. Cell Biol. 183, 795–803 (2008). 236. Rana, A., Rera, M. & Walker, D. W. Parkin overexpression during aging reduces proteotoxicity, alters mitochondrial dynamics, and extends lifespan. Proc. Natl Acad. Sci. USA 110, 8638–8643 (2013). 237. Zhuang, N., Li, L., Chen, S. & Wang, T. PINK1-dependent phosphorylation of PINK1 and parkin is essential for mitochondrial quality control. Cell Death Dis. 7, e2501 (2016). 238. Schiavi, A. et al. Iron-starvation-induced mitophagy mediates lifespan extension upon mitochondrial stress in C. elegans. Curr. Biol. 25, 1810–1822 (2015). 239. Johansen, T. & Lamark, T. Selective autophagy mediated by autophagic adapter proteins. Autophagy 7, 279–296 (2011). 240. Parekh, V. V. et al. Autophagy-related protein Vps34 controls the homeostasis and function of antigen cross-presenting CD8α+ dendritic cells. Proc. Natl Acad. Sci. USA 114, E6371–E6380 (2017). 241. Cabreiro, F. et al. Metformin retards aging in C. elegans by altering microbial folate and methionine metabolism. Cell 153, 228–239 (2013). 242. Partridge, L., Fuentealba, M. & Kennedy, B. K. The quest to slow ageing through drug discovery. Nat. Rev. Drug Discov. 19, 513–532 (2020). 243. Lu, Y. X. et al. A TORC1-histone axis regulates chromatin organisation and non-canonical induction of autophagy to ameliorate ageing. eLife 10, e62233 (2021). 244. Fivenson, E. M. et al. Mitophagy in neurodegeneration and aging. Neurochem. Int. 109, 202–209 (2017).\n",
      "----------------------------------------------------------------\n"
     ]
    }
   ],
   "source": [
    "# Print the combined similar chunks\n",
    "print(\"\\nCombined similar chunks:\")\n",
    "for i, chunk in enumerate(text_1_similar_chunks):\n",
    "    print(f\"\\nText 1 chunk: {text_1_chunks[chunk[0]]} - {text_1_chunks[chunk[-1]]}\")\n",
    "    print(\"-\"*64 + \"\\n\\n\\n\")\n",
    "    \n",
    "print(\"=\"*64)\n",
    "    \n",
    "for i, chunk in enumerate(text_2_similar_chunks):\n",
    "    print(f\"\\nText 2 chunk: {text_2_chunks[chunk[0]]} - {text_2_chunks[chunk[-1]]}\")\n",
    "    print(\"-\"*64 + \"\\n\\n\\n\")"
   ],
   "metadata": {
    "collapsed": false,
    "ExecuteTime": {
     "end_time": "2024-03-13T16:14:02.171367300Z",
     "start_time": "2024-03-13T16:14:01.646621500Z"
    }
   },
   "id": "62f5317e01c9ddf5",
   "execution_count": 23
  },
  {
   "cell_type": "code",
   "outputs": [
    {
     "name": "stdout",
     "output_type": "stream",
     "text": [
      "Combined chunks saved\n",
      "Combined embeddings saved\n"
     ]
    }
   ],
   "source": [
    "from buff.llm.embed import embed_texts\n",
    "\n",
    "text_1_similar_texts = [\" \".join([text_1_chunks[ci] for ci in chunk]) for chunk in text_1_similar_chunks]\n",
    "text_2_similar_texts = [\" \".join([text_2_chunks[ci] for ci in chunk]) for chunk in text_2_similar_chunks]\n",
    "\n",
    "# # Embed the combined similar chunks\n",
    "# text_1_combined_embeddings = await embed_texts(text_1_similar_texts)\n",
    "# text_2_combined_embeddings = await embed_texts(text_2_similar_texts)\n",
    "# \n",
    "# # Save the combined similar chunks\n",
    "# with open(\"combined_chunks.json\", \"w\", encoding=\"utf-8\") as f:\n",
    "#     f.write(json.dumps({\n",
    "#         \"paper_1\": text_1_similar_texts,\n",
    "#         \"paper_2\": text_1_similar_texts\n",
    "#     }))\n",
    "#     print(\"Combined chunks saved\")\n",
    "# \n",
    "# # Save the combined embeddings\n",
    "# with open(\"combined_embeddings.json\", \"w\", encoding=\"utf-8\") as f:\n",
    "#     f.write(json.dumps({\n",
    "#         \"paper_1\": text_1_combined_embeddings,\n",
    "#         \"paper_2\": text_2_combined_embeddings\n",
    "#     }))\n",
    "#     print(\"Combined embeddings saved\")"
   ],
   "metadata": {
    "collapsed": false,
    "ExecuteTime": {
     "end_time": "2024-03-13T16:22:15.335009400Z",
     "start_time": "2024-03-13T16:22:14.299453500Z"
    }
   },
   "id": "47349ae8e9b841a2",
   "execution_count": 37
  },
  {
   "cell_type": "code",
   "outputs": [
    {
     "name": "stdout",
     "output_type": "stream",
     "text": [
      "Combined chunks loaded\n",
      "Combined embeddings loaded\n"
     ]
    }
   ],
   "source": [
    "# Load the combined similar chunks\n",
    "with open(\"combined_chunks.json\", \"r\", encoding=\"utf-8\") as f:\n",
    "    combined_chunks = json.load(f)\n",
    "    text_1_similar_chunks = combined_chunks[\"paper_1\"]\n",
    "    text_2_similar_chunks = combined_chunks[\"paper_2\"]\n",
    "    print(\"Combined chunks loaded\")\n",
    "\n",
    "# Load the combined embeddings\n",
    "with open(\"combined_embeddings.json\", \"r\", encoding=\"utf-8\") as f:\n",
    "    combined_embeddings = json.load(f)\n",
    "    text_1_combined_embeddings = combined_embeddings[\"paper_1\"]\n",
    "    text_2_combined_embeddings = combined_embeddings[\"paper_2\"]\n",
    "    print(\"Combined embeddings loaded\")"
   ],
   "metadata": {
    "collapsed": false,
    "ExecuteTime": {
     "end_time": "2024-03-13T16:22:15.668993100Z",
     "start_time": "2024-03-13T16:22:15.345042500Z"
    }
   },
   "id": "51e6e22fe4268a8f",
   "execution_count": 38
  },
  {
   "cell_type": "code",
   "outputs": [
    {
     "name": "stdout",
     "output_type": "stream",
     "text": [
      "[[0.7854691  0.82731752 0.8878263  0.83533547]]\n"
     ]
    }
   ],
   "source": [
    "# Create a cosine similarity matrix for the combined similar chunks\n",
    "combined_similarity_matrix = cosine_similarity(text_1_combined_embeddings, text_2_combined_embeddings)\n",
    "print(combined_similarity_matrix)"
   ],
   "metadata": {
    "collapsed": false,
    "ExecuteTime": {
     "end_time": "2024-03-13T16:22:15.853977500Z",
     "start_time": "2024-03-13T16:22:15.607419800Z"
    }
   },
   "id": "5977ae640e6c3e33",
   "execution_count": 39
  },
  {
   "cell_type": "code",
   "outputs": [
    {
     "data": {
      "text/plain": "<Figure size 640x480 with 2 Axes>",
      "image/png": "[encoded data removed]"
     },
     "metadata": {},
     "output_type": "display_data"
    }
   ],
   "source": [
    "# Print a heatmap of the combined similarity matrix\n",
    "import matplotlib.pyplot as plt\n",
    "import seaborn as sns\n",
    "\n",
    "sns.heatmap(combined_similarity_matrix, annot=True, cmap=\"YlGnBu\", xticklabels=False, yticklabels=False)\n",
    "plt.title(\"Cosine Similarity Matrix for Combined Similar Chunks\")\n",
    "plt.xlabel(\"Text 2 Combined Similar Chunks\")\n",
    "plt.ylabel(\"Text 1 Combined Similar Chunks\")\n",
    "plt.show()"
   ],
   "metadata": {
    "collapsed": false,
    "ExecuteTime": {
     "end_time": "2024-03-13T16:23:08.514510300Z",
     "start_time": "2024-03-13T16:23:08.093837700Z"
    }
   },
   "id": "558014edad96e004",
   "execution_count": 41
  },
  {
   "cell_type": "code",
   "outputs": [
    {
     "name": "stdout",
     "output_type": "stream",
     "text": [
      "Most similar pair of combined similar chunks: (0, 2), Similarity score: 0.8878\n"
     ]
    }
   ],
   "source": [
    "# Print the most similar pairs of combined similar chunks\n",
    "most_similar_indices = np.unravel_index(combined_similarity_matrix.argmax(), combined_similarity_matrix.shape)\n",
    "most_similar_score = combined_similarity_matrix[most_similar_indices]\n",
    "\n",
    "print(f\"Most similar pair of combined similar chunks: {most_similar_indices}, Similarity score: {most_similar_score:.4f}\")"
   ],
   "metadata": {
    "collapsed": false,
    "ExecuteTime": {
     "end_time": "2024-03-13T16:24:26.769441800Z",
     "start_time": "2024-03-13T16:24:26.697847400Z"
    }
   },
   "id": "f5782b07798ad9ce",
   "execution_count": 42
  },
  {
   "cell_type": "code",
   "outputs": [
    {
     "name": "stdout",
     "output_type": "stream",
     "text": [
      "Most similar pair of combined similar chunks:\n",
      "\n",
      "\n",
      "Text 1 combined similar chunks: Data availability The authors declare that all data supporting the ﬁndings of this study are available within this article, its Supplementary Information ﬁles, the peer-review ﬁle, or are available from the corresponding author upon reasonable request. Received: 22 November 2018; Accepted: 13 November 2019; References 1. Kroemer, G., Marino, G. & Levine, B. Autophagy and the integrated stress response. Mol. Cell 40, 280–293 (2010). 2. Kumsta, C., Chang, J. T., Schmalz, J. & Hansen, M. Hormetic heat stress and HSF-1 induce autophagy to improve survival and proteostasis in C. elegans. Nat. Commun. 8, 14337 (2017). 3. Hansen, M., Rubinsztein, D. C. & Walker, D. W. Autophagy as a promoter of longevity: insights from model organisms. Nat. Rev. Mol. Cell Biol. 19, 579–593 (2018). 4. Gatica, D., Lahiri, V. & Klionsky, D. J. Cargo recognition and degradation by selective autophagy. Nat. Cell Biol. 20, 233–242 (2018). 5. Pankiv, S. et al. p62/SQSTM1 binds directly to Atg8/LC3 to facilitate degradation of ubiquitinated protein aggregates by autophagy. J. Biol. Chem. 282, 24131–24145 (2007). 6. Ichimura, Y. et al. Structural basis for sorting mechanism of p62 in selective autophagy. J. Biol. Chem. 283, 22847–22857 (2008). 7. Bjorkoy, G. et al. p62/SQSTM1 forms protein aggregates degraded by autophagy and has a protective effect on huntingtin-induced cell death. J. Cell Biol. 171, 603–614 (2005). 8. Korolchuk, V. I., Menzies, F. M. & Rubinsztein, D. C. Mechanisms of cross- talk between the ubiquitin-proteasome and autophagy-lysosome systems. FEBS Lett. 584, 1393–1398 (2010). 9. Liu, W. J. et al. p62 links the autophagy pathway and the ubiqutin-proteasome system upon ubiquitinated protein degradation. Cell Mol. Biol. Lett. 21, 29 (2016). 10. Caccamo, A., Ferreira, E., Branca, C. & Oddo, S. p62 improves AD-like pathology by increasing autophagy. Mol. Psychiatry 22, 865–873 (2017). 11. Doi, H. et al. p62/SQSTM1 differentially removes the toxic mutant androgen receptor via autophagy and inclusion formation in a spinal and bulbar muscular atrophy mouse model. J. Neurosci. 33, 7710–7727 (2013). 12. Babu, J. R., Geetha, T. & Wooten, M. W. Sequestosome 1/p62 shuttles polyubiquitinated tau for proteasomal degradation. J. Neurochem 94, 192–203 (2005). 13. Nezis, I. P. et al. Ref(2)P, the Drosophila melanogaster homologue of mammalian p62, is required for the formation of protein aggregates in adult brain. J. Cell Biol. 180, 1065–1071 (2008). 14. Tian, Y. et al. C. elegans screen identiﬁes autophagy genes speciﬁc to multicellular organisms. Cell 141, 1042–1055 (2010). 15. Komatsu, M. et al. Homeostatic levels of p62 control cytoplasmic inclusion body formation in autophagy-deﬁcient mice. Cell 131, 1149–1163 (2007). 16. Arrasate, M., Mitra, S., Schweitzer, E. S., Segal, M. R. & Finkbeiner, S. Inclusion body formation reduces levels of mutant huntingtin and the risk of neuronal death. Nature 431, 805–810 (2004). 17. Caughey, B. & Lansbury, P. T. Protoﬁbrils, pores, ﬁbrils, and neurodegeneration: separating the responsible protein aggregates from the innocent bystanders. Annu Rev. Neurosci. 26, 267–298 (2003). 18. Kopito, R. R. Aggresomes, inclusion bodies and protein aggregation. Trends Cell Biol. 10, 524–530 (2000). 19. Kwon, J. et al. Assurance of mitochondrial integrity and mammalian longevity by the p62-Keap1-Nrf2-Nqo1 cascade. EMBO Rep. 13, 150–156 (2012). 20. Ramesh Babu, J. et al. Genetic inactivation of p62 leads to accumulation of hyperphosphorylated tau and neurodegeneration. J. Neurochem. 106, 107–120 (2008). 21. Wooten, M. W. et al. Essential role of sequestosome 1/p62 in regulating accumulation of Lys63-ubiquitinated proteins. J. Biol. Chem. 283, 6783–6789 (2008). 22. de Castro, I. P. et al. Drosophila ref(2)P is required for the parkin-mediated suppression of mitochondrial dysfunction in pink1 mutants. Cell Death Dis. 4, e873 (2013). 23. Schiavi, A. et al. Iron-starvation-induced mitophagy mediates lifespan extension upon mitochondrial stress in C. elegans. Curr. Biol. 25, 1810–1822 (2015). 24. Lin, L. et al. The scaffold protein EPG-7 links cargo-receptor complexes with the autophagic assembly machinery. J. Cell Biol. 201, 113–129 (2013). 25. Du, Y., Wooten, M. C., Gearing, M. & Wooten, M. W. Age-associated oxidative damage to the p62 promoter: implications for Alzheimer disease. Free Radic. Biol. Med. 46, 492–501 (2009). 26. Du, Y., Wooten, M. C. & Wooten, M. W. Oxidative damage to the promoter region of SQSTM1/p62 is common to neurodegenerative disease. Neurobiol. Dis. 35, 302–310 (2009). 27. Richter, K., Haslbeck, M. & Buchner, J. The heat shock response: life on the verge of death. Mol. Cell 40, 253–266 (2010). 28. Vabulas, R. M., Raychaudhuri, S., Hayer-Hartl, M. & Hartl, F. U. Protein folding in the cytoplasm and the heat shock response. Cold Spring Harb. Perspect. Biol. 2, a004390 (2010). 29. Wallace, E. W. et al. Reversible, speciﬁc, active aggregates of endogenous proteins assemble upon heat stress. Cell 162, 1286–1298 (2015). 30. Salomons, F. A. et al. Selective accumulation of aggregation-prone proteasome substrates in response to proteotoxic stress. Mol. Cell Biol. 29, 1774–1785 (2009). 31. Guo, B. et al. The nascent polypeptide-associated complex is essential for autophagic ﬂux. Autophagy 10, 1738–1748 (2014). 32. McKay, S. J. et al. Gene expression proﬁling of cells, tissues, and developmental stages of the nematode C. elegans. Cold Spring Harb. Symp. Quant. Biol. 68, 159–169 (2003). 33. Springhorn, A. & Hoppe, T. Western blot analysis of the autophagosomal membrane protein LGG-1/LC3 in Caenorhabditis elegans. Methods Enzymol. 619, 319–336 (2019). 34. Melendez, A. et al. Autophagy genes are essential for dauer development and life-span extension in C. elegans. Science 301, 1387–1391 (2003). 35. Kang, C., You, Y. J. & Avery, L. Dual roles of autophagy in the survival of Caenorhabditis elegans during starvation. Genes Dev. 21, 2161–2171 (2007). 36. Gelino, S. et al. Intestinal autophagy improves healthspan and longevity in C. elegans during dietary restriction. PLoS Genet. 12, e1006135 (2016). 37. Manil-Segalen, M. et al. The C. elegans LC3 acts downstream of GABARAP to degrade autophagosomes by interacting with the HOPS subunit VPS39. Dev. Cell 28, 43–55 (2014). 38. Klionsky, D. J. et al. Guidelines for the use and interpretation of assays for monitoring autophagy (3rd edition). Autophagy 12, 1–222 (2016). 39. Zhang, H. et al. Guidelines for monitoring autophagy in Caenorhabditis elegans. Autophagy 11, 9–27 (2015). 40. Wilkinson, D. S. et al. Phosphorylation of LC3 by the Hippo kinases STK3/ STK4 is essential for autophagy. Mol. cell 57, 55–68 (2015). 41. Morley, J. F., Brignull, H. R., Weyers, J. J. & Morimoto, R. I. The threshold for polyglutamine-expansion protein aggregation and cellular toxicity is dynamic and inﬂuenced by aging in Caenorhabditis elegans. Proc. Natl Acad. Sci. USA 99, 10417–10422 (2002). 42. Mohri-Shiomi, A. & Garsin, D. A. Insulin signaling and the heat shock response modulate protein homeostasis in the Caenorhabditis elegans intestine during infection. J. Biol. Chem. 283, 194–201 (2008). 43. Gidalevitz, T., Ben-Zvi, A., Ho, K. H., Brignull, H. R. & Morimoto, R. I. Progressive disruption of cellular protein folding in models of polyglutamine diseases. Science 311, 1471–1474 (2006). 44. Moronetti Mazzeo, L. E., Dersh, D., Boccitto, M., Kalb, R. G. & Lamitina, T. Stress and aging induce distinct polyQ protein aggregation states. Proc. Natl Acad. Sci. USA 109, 10587–10592 (2012). 45. Jia, K., Hart, A. C. & Levine, B. Autophagy genes protect against disease caused by polyglutamine expansion proteins in Caenorhabditis elegans. Autophagy 3, 21–25 (2007). 46. Prahlad, V. & Morimoto, R. I. Integrating the stress response: lessons for neurodegenerative diseases from C. elegans. Trends Cell Biol. 19, 52–61 (2009). 47. Ben-Zvi, A., Miller, E. A. & Morimoto, R. I. Collapse of proteostasis represents an early molecular event in Caenorhabditis elegans aging. Proc. Natl Acad. Sci. USA 106, 14914–14919 (2009). 48. Vilchez, D. et al. RPN-6 determines C. elegans longevity under proteotoxic stress conditions. Nature 489, 263–268 (2012). 49. Sun, T., Wang, X., Lu, Q., Ren, H. & Zhang, H. CUP-5, the C. elegans ortholog of the mammalian lysosomal channel protein MLN1/TRPML1, is required for proteolytic degradation in autolysosomes. Autophagy 7, 1308–1315 (2011). 50. Wu, Y. et al. PI3P phosphatase activity is required for autophagosome maturation and autolysosome formation. EMBO Rep. 15, 973–981 (2014). 51. Toth, M. L. et al. Longevity pathways converge on autophagy genes to regulate life span in Caenorhabditis elegans. Autophagy 4, 330–338 (2008). 52. Wu, F. et al. Structural basis of the differential function of the two C. elegans Atg8 homologs, LGG-1 and LGG-2, in autophagy. Mol. Cell 60, 914–929 (2015). NATURE COMMUNICATIONS | https://doi.org/10.1038/s41467-019-13540-4 ARTICLE NATURE COMMUNICATIONS | (2019) 10:5648 | https://doi.org/10.1038/s41467-019-13540-4 | www.nature.com/naturecommunications 11 53. Chang, J. T., Kumsta, C., Hellman, A. B., Adams, L. M. & Hansen, M. Spatiotemporal regulation of autophagy during Caenorhabditis elegans aging. Elife 6, https://doi.org/10.7554/eLife.18459 (2017). 54. Ventura, N. et al. p53/CEP-1 increases or decreases lifespan, depending on level of mitochondrial bioenergetic stress. Aging Cell 8, 380–393 (2009). 55. Zaffagnini, G. & Martens, S. Mechanisms of selective autophagy. J. Mol. Biol. 428, 1714–1724 (2016). 56. Itakura, E. & Mizushima, N. p62 Targeting to the autophagosome formation site requires self-oligomerization but not LC3 binding. J. Cell Biol. 192, 17–27 (2011). 57. Fujita, N. et al.\n",
      "\n",
      "\n",
      "Text 2 combined similar chunks: Hansen, M., Rubinsztein, D. C. & Walker, D. W. Autophagy as a promoter of longevity: insights from model organisms. Nat. Rev. Mol. Cell Biol. 19, 579–593 (2018). 15. Bjorkoy, G. et al. p62/SQSTM1 forms protein aggregates degraded by autophagy and has a protective effect on huntingtin-induced cell death. J. Cell Biol. 171, 603–614 (2005). 16. Pankiv, S. et al. p62/SQSTM1 binds directly to Atg8/LC3 to facilitate degradation of ubiquitinated protein aggregates by autophagy. J. Biol. Chem. 282, 24131–24145 (2007). 17. Kirkin, V. History of the selective autophagy research: how did it begin and where does it stand today? J. Mol. Biol. 432, 3–27 (2020). 18. Gatica, D., Lahiri, V. & Klionsky, D. J. Cargo recognition and degradation by selective autophagy. Nat. Cell Biol. 20, 233–242 (2018). 19. Menzies, F. M., Fleming, A. & Rubinsztein, D. C. Compromised autophagy and neurodegenerative diseases. Nat. Rev. Neurosci. 16, 345–357 (2015). 20. Kim, S. et al. Fisetin stimulates autophagic degradation of phosphorylated tau via the activation of TFEB and Nrf2 transcription factors. Sci. Rep. 6, 24933 (2016). 21. Medina, D. L. et al. Lysosomal calcium signalling regulates autophagy through calcineurin and TFEB. Nat. Cell Biol. 17, 288–299 (2015). 22. Settembre, C. et al. A lysosome-to-nucleus signalling mechanism senses and regulates the lysosome via mTOR and TFEB. EMBO J. 31, 1095–1108 (2012). 23. El-Houjeiri, L. et al. The transcription factors TFEB and TFE3 link the FLCN–AMPK signaling axis to innate immune response and pathogen resistance. Cell Rep. 26, 3613–3628 (2019). 24. Cuervo, A. M. & Dice, J. F. How do intracellular proteolytic systems change with age? Front. Biosci. 3, D25–D43 (1998). 25. Sun, Y. et al. Lysosome activity is modulated by multiple longevity pathways and is important for lifespan extension in C. elegans. eLife https://doi. org/10.7554/eLife.55745 (2020). 26. Sarkis, G. J., Ashcom, J. D., Hawdon, J. M. & Jacobson, L. A. Decline in protease activities with age in the nematode Caenorhabditis elegans. Mech. Ageing Dev. 45, 191–201 (1988). 27. Hughes, A. L. & Gottschling, D. E. An early age increase in vacuolar pH limits mitochondrial function and lifespan in yeast. Nature 492, 261–265 (2012). 28. Chang, J. T., Kumsta, C., Hellman, A. B., Adams, L. M. & Hansen, M. Spatiotemporal regulation of autophagy during Caenorhabditis elegans aging. eLife https://doi.org/10.7554/eLife.18459 (2017). 29. Wilhelm, T. et al. Neuronal inhibition of the autophagy nucleation complex extends life span in post-reproductive C. elegans. Genes Dev. 31, 1561–1572 (2017). 30. Simonsen, A. et al. Promoting basal levels of autophagy in the nervous system enhances longevity and oxidant resistance in adult Drosophila. Autophagy 4, 176–184 (2008). 31. Kaushik, S. et al. Loss of autophagy in hypothalamic POMC neurons impairs lipolysis. EMBO Rep. 13, 258–265 (2012). 32. Ott, C., Konig, J., Hohn, A., Jung, T. & Grune, T. Macroautophagy is impaired in old murine brain tissue as well as in senescent human fibroblasts. Redox Biol. 10, 266–273 (2016). 33. Triplett, J. C. et al. Age-related changes in the proteostasis network in the brain of the naked mole-rat: implications promoting healthy longevity. Biochim. Biophys. Acta 1852, 2213–2224 (2015). 34. Yu, Y. et al. The alteration of autophagy and apoptosis in the hippocampus of rats with natural aging-dependent cognitive deficits. Behav. Brain Res. 334, 155–162 (2017). 35. Lipinski, M. M. et al. Genome-wide analysis reveals mechanisms modulating autophagy in normal brain aging and in Alzheimer’s disease. Proc. Natl Acad. Sci. USA 107, 14164–14169 (2010). 36. Cheon, S. Y., Kim, H., Rubinsztein, D. C. & Lee, J. E. Autophagy, cellular aging and age-related human diseases. Exp. Neurobiol. 28, 643–657 (2019). 37. Lou, G. et al. Mitophagy and neuroprotection. Trends Mol. Med. https://doi. org/10.1016/j.molmed.2019.07.002 (2019). 38. Matecic, M. et al. A microarray-based genetic screen for yeast chronological aging factors. PLoS Genet. 6, e1000921 (2010). 39. Toth, M. L. et al. Longevity pathways converge on autophagy genes to regulate life span in Caenorhabditis elegans. Autophagy 4, 330–338 (2008). 40. Kuma, A., Komatsu, M. & Mizushima, N. Autophagy-monitoring and autophagy-deficient mice. Autophagy 13, 1619–1628 (2017). 41. Lin, X. X. et al. DAF-16/FOXO and HLH-30/TFEB function as combinatorial transcription factors to promote stress resistance and longevity. Nat. Commun. 9, 4400 (2018). 42. Melendez, A. et al. Autophagy genes are essential for dauer development and life-span extension in C. elegans. Science 301, 1387–1391 (2003). 43. Lapierre, L. R. et al. The TFEB orthologue HLH-30 regulates autophagy and modulates longevity in Caenorhabditis elegans. Nat. Commun. 4, 2267 (2013). 44. Pyo, J. O. et al. Overexpression of Atg5 in mice activates autophagy and extends lifespan. Nat. Commun. 4, 2300 (2013). 45. Ulgherait, M., Rana, A., Rera, M., Graniel, J. & Walker, D. W. AMPK modulates tissue and organismal aging in a non-cell-autonomous manner. Cell Rep. 8, 1767–1780 (2014). 46. Fernandez, A. F. et al. Disruption of the beclin 1–BCL2 autophagy regulatory complex promotes longevity in mice. Nature 558, 136–140 (2018). 47. Silvestrini, M. J. et al. Nuclear export inhibition enhances HLH-30/TFEB activity, autophagy, and lifespan. Cell Rep. 23, 1915–1921 (2018). 48. Harrison, D. E. et al. Rapamycin fed late in life extends lifespan in genetically heterogeneous mice. Nature 460, 392–395 (2009). 49. Pareja-Cajiao, M. et al. Age-related impairment of autophagy in cervical motor neurons. Exp. Gerontol. 144, 111193 (2021). 50. Nettesheim, A. et al. Autophagy in the aging and experimental ocular hypertensive mouse model. Invest. Ophthalmol. Vis. Sci. 61, 31 (2020). 51. Fernando, R. et al. Age-related maintenance of the autophagy–lysosomal system is dependent on skeletal muscle type. Oxid. Med. Cell. Longev. 2020, 4908162 (2020). 52. Liang, W. et al. Aging is associated with a decline in Atg9b-mediated autophagosome formation and appearance of enlarged mitochondria in the heart. Aging Cell 19, e13187 (2020). 53. Kamihara, T. & Murohara, T. Bioinformatics analysis of autophagy– lysosomal degradation in cardiac aging. Geriatr. Gerontol. Int. 21, 108–115 (2021). 54. Fang, Y. et al. Autophagy–Sirt3 axis decelerates hematopoietic aging. Aging Cell 19, e13232 (2020). 55. Alsaleh, G. et al. Autophagy in T cells from aged donors is maintained by spermidine and correlates with function and vaccine responses. eLife https://doi.org/10.7554/eLife.57950 (2020). 56. De Risi, M. et al. Mechanisms by which autophagy regulates memory capacity in ageing. Aging Cell 19, e13189 (2020). 57. Yamamuro, T. et al. Age-dependent loss of adipose Rubicon promotes metabolic disorders via excess autophagy. Nat. Commun. 11, 4150 (2020). 58. Zhou, B. et al. Mitochondrial permeability uncouples elevated autophagy and lifespan extension. Cell 177, 299–314 (2019). 59. Ezcurra, M. et al. C. elegans eats its own intestine to make yolk leading to multiple senescent pathologies. Curr. Biol. 28, 2544–2556 (2018). 60. Lapierre, L. R. et al. Autophagy genes are required for normal lipid levels in C. elegans. Autophagy 9, 278–286 (2013). 61. Hansen, M. et al. A role for autophagy in the extension of lifespan by dietary restriction in C. elegans. PLoS Genet. 4, e24 (2008). 62. Labbadia, J. & Morimoto, R. I. The biology of proteostasis in aging and disease. Annu. Rev. Biochem. 84, 435–464 (2015). 63. Lopez-Otin, C., Blasco, M. A., Partridge, L., Serrano, M. & Kroemer, G. The hallmarks of aging. Cell 153, 1194–1217 (2013). 64. Ravikumar, B., Duden, R. & Rubinsztein, D. C. Aggregate-prone proteins with polyglutamine and polyalanine expansions are degraded by autophagy. Hum. Mol. Genet. 11, 1107–1117 (2002). 65. Ravikumar, B. et al. Inhibition of mTOR induces autophagy and reduces toxicity of polyglutamine expansions in fly and mouse models of Huntington disease. Nat. Genet. 36, 585–595 (2004). NATuRE AGING | VOL 1 | AUGUST 2021 | 634–650 | www.nature.com/nataging 646 Review ARticle NATURe AgINg 66. Fang, E. F. et al. Defective mitophagy in XPA via PARP-1 hyperactivation and NAD+/SIRT1 reduction. Cell 157, 882–896 (2014). 67. Boland, B. et al. Promoting the clearance of neurotoxic proteins in neurodegenerative disorders of ageing. Nat. Rev. Drug Discov. 17, 660–688 (2018). 68. Fang, E. F. et al. Nuclear DNA damage signalling to mitochondria in ageing. Nat. Rev. Mol. Cell Biol. 17, 308–321 (2016). 69. Rubinsztein, D. C., Marino, G. & Kroemer, G. Autophagy and aging. Cell 146, 682–695 (2011). 70. Kumsta, C., Chang, J. T., Schmalz, J. & Hansen, M. Hormetic heat stress and HSF-1 induce autophagy to improve survival and proteostasis in C. elegans. Nat. Commun. 8, 14337 (2017). 71. Juhasz, G., Erdi, B., Sass, M. & Neufeld, T. P. Atg7-dependent autophagy promotes neuronal health, stress tolerance, and longevity but is dispensable for metamorphosis in Drosophila. Genes Dev. 21, 3061–3066 (2007). 72. Hara, T. et al. Suppression of basal autophagy in neural cells causes neurodegenerative disease in mice. Nature 441, 885–889 (2006). 73. Komatsu, M. et al. Loss of autophagy in the central nervous system causes neurodegeneration in mice. Nature 441, 880–884 (2006). 74. Friedman, L. G. et al. Disrupted autophagy leads to dopaminergic axon and dendrite degeneration and promotes presynaptic accumulation of α-synuclein and LRRK2 in the brain. J. Neurosci. 32, 7585–7593 (2012). 75. Schneider, J. L. et al. Loss of hepatic chaperone-mediated autophagy accelerates proteostasis failure in aging. Aging Cell 14, 249–264 (2015). 76. Kumsta, C. et al. The autophagy receptor p62/SQST-1 promotes proteostasis and longevity in C. elegans by inducing autophagy. Nat. Commun. 10, 5648 (2019). 77. Aparicio, R., Rana, A. & Walker, D. W. Upregulation of the autophagy adaptor p62/SQSTM1 prolongs health and lifespan in middle-aged Drosophila. Cell Rep. 28, 1029–1040 (2019). 78. Demontis, F. & Perrimon, N. FOXO/4E-BP signaling in Drosophila muscles regulates organism-wide proteostasis during aging. Cell 143, 813–825 (2010). 79. Nezis, I. P. et al. Ref(2)P, the Drosophila melanogaster homologue of mammalian p62, is required for the formation of protein aggregates in adult brain. J. Cell Biol. 180, 1065–1071 (2008). 80. Lopez, A. et al. A152T tau allele causes neurodegeneration that can be ameliorated in a zebrafish model by autophagy induction. Brain 140, 1128–1146 (2017). 81. Rocchi, A. et al. A Becn1 mutation mediates hyperactive autophagic sequestration of amyloid oligomers and improved cognition in Alzheimer’s disease. PLoS Genet. 13, e1006962 (2017). 82. Fu, H. et al. A tau homeostasis signature is linked with the cellular and regional vulnerability of excitatory neurons to tau pathology. Nat. Neurosci. 22, 47–56 (2019). 83. Schinaman, J. M., Rana, A., Ja, W. W., Clark, R. I. & Walker, D. W. Rapamycin modulates tissue aging and lifespan independently of the gut microbiota in Drosophila. Sci. Rep. 9, 7824 (2019). 84. Berger, Z. et al. Rapamycin alleviates toxicity of different aggregate-prone proteins. Hum. Mol. Genet. 15, 433–442 (2006). 85. Audesse, A. J. et al. FOXO3 directly regulates an autophagy network to functionally regulate proteostasis in adult neural stem cells. PLoS Genet. 15, e1008097 (2019). 86. Leeman, D. S. et al. Lysosome activation clears aggregates and enhances quiescent neural stem cell activation during aging. Science 359, 1277–1283 (2018). 87. Garcia-Prat, L. et al. Autophagy maintains stemness by preventing senescence. Nature 529, 37–42 (2016). 88. Kuma, A. et al. The role of autophagy during the early neonatal starvation period. Nature 432, 1032–1036 (2004). 89. Yang, Z., Huang, J., Geng, J., Nair, U.\n"
     ]
    }
   ],
   "source": [
    "# Print the combined similar chunks for the most similar pair\n",
    "print(\"Most similar pair of combined similar chunks:\")\n",
    "print(f\"\\n\\nText 1 combined similar chunks: {text_1_similar_texts[most_similar_indices[0]]}\")\n",
    "print(f\"\\n\\nText 2 combined similar chunks: {text_2_similar_texts[most_similar_indices[1]]}\")"
   ],
   "metadata": {
    "collapsed": false,
    "ExecuteTime": {
     "end_time": "2024-03-13T16:26:22.447802100Z",
     "start_time": "2024-03-13T16:26:22.333979200Z"
    }
   },
   "id": "7738c8823cb8580f",
   "execution_count": 45
  }
 ],
 "metadata": {
  "kernelspec": {
   "display_name": "Python 3",
   "language": "python",
   "name": "python3"
  },
  "language_info": {
   "codemirror_mode": {
    "name": "ipython",
    "version": 2
   },
   "file_extension": ".py",
   "mimetype": "text/x-python",
   "name": "python",
   "nbconvert_exporter": "python",
   "pygments_lexer": "ipython2",
   "version": "2.7.6"
  }
 },
 "nbformat": 4,
 "nbformat_minor": 5
}
